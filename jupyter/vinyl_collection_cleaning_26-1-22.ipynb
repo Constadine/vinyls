{
 "cells": [
  {
   "cell_type": "markdown",
   "id": "b5a81b81",
   "metadata": {},
   "source": [
    "# Merge and clean datasets"
   ]
  },
  {
   "cell_type": "code",
   "execution_count": 138,
   "id": "73b83149",
   "metadata": {},
   "outputs": [],
   "source": [
    "import pandas as pd"
   ]
  },
  {
   "cell_type": "markdown",
   "id": "fefcfe78",
   "metadata": {},
   "source": [
    "#### Load the dataframes"
   ]
  },
  {
   "cell_type": "code",
   "execution_count": 139,
   "id": "30a07654",
   "metadata": {},
   "outputs": [],
   "source": [
    "def load_data():\n",
    "    df1 = pd.read_csv('gopera-collection-20220126-0742.csv')\n",
    "    df2 = pd.read_excel('all_discs20220126.xlsx')\n",
    "    return df1, df2"
   ]
  },
  {
   "cell_type": "code",
   "execution_count": 140,
   "id": "fd181d6d",
   "metadata": {},
   "outputs": [],
   "source": [
    "df_discorgs, df_home = load_data()"
   ]
  },
  {
   "cell_type": "markdown",
   "id": "954fef66",
   "metadata": {},
   "source": [
    "> df_discorgs refers to the dataset exporting by Discorgs. THe largest online music database.\n",
    "df_home is my father's sheet for keaping track. \n",
    "Some discs are not available at discorgs so they'"
   ]
  },
  {
   "cell_type": "markdown",
   "id": "7d269d27",
   "metadata": {},
   "source": [
    "## Clean data"
   ]
  },
  {
   "cell_type": "markdown",
   "id": "f2412cb8",
   "metadata": {},
   "source": [
    "#### Drop unused columns and replace NAs"
   ]
  },
  {
   "cell_type": "code",
   "execution_count": 141,
   "id": "0e4d20ec",
   "metadata": {},
   "outputs": [],
   "source": [
    "df_discorgs.drop(['Catalog#', 'Rating', 'release_id', 'CollectionFolder', 'Collection Media Condition', 'Collection Sleeve Condition','Collection Notes'],axis=1,inplace=True)"
   ]
  },
  {
   "cell_type": "code",
   "execution_count": 142,
   "id": "0bf8abd4",
   "metadata": {},
   "outputs": [],
   "source": [
    "# df_discorgs['Released'].replace(0,\"NS\",inplace=True)"
   ]
  },
  {
   "cell_type": "code",
   "execution_count": 143,
   "id": "2ad31c10",
   "metadata": {},
   "outputs": [
    {
     "data": {
      "text/plain": [
       "((3556, 6), (3579, 26))"
      ]
     },
     "execution_count": 143,
     "metadata": {},
     "output_type": "execute_result"
    }
   ],
   "source": [
    "df_discorgs.shape,df_home.shape"
   ]
  },
  {
   "cell_type": "code",
   "execution_count": 144,
   "id": "71b7897e",
   "metadata": {},
   "outputs": [],
   "source": [
    "df_home.drop('CAT#', axis=1 , inplace=True)\n",
    "df_home.drop(list(df_home.filter(regex = 'Unnamed')), axis = 1, inplace = True)\n",
    "#df_home.fillna('NS', inplace=True)"
   ]
  },
  {
   "cell_type": "code",
   "execution_count": 145,
   "id": "27fe7bb5",
   "metadata": {},
   "outputs": [],
   "source": [
    "def trim_all_columns(df):\n",
    "    trim_strings = lambda x: x.strip() if isinstance(x, str) else x\n",
    "    return df.applymap(trim_strings)\n",
    "df_discorgs = trim_all_columns(df_discorgs)\n",
    "df_home = trim_all_columns(df_home)"
   ]
  },
  {
   "cell_type": "code",
   "execution_count": 146,
   "id": "0ce21314",
   "metadata": {
    "scrolled": true
   },
   "outputs": [
    {
     "data": {
      "text/html": [
       "<div>\n",
       "<style scoped>\n",
       "    .dataframe tbody tr th:only-of-type {\n",
       "        vertical-align: middle;\n",
       "    }\n",
       "\n",
       "    .dataframe tbody tr th {\n",
       "        vertical-align: top;\n",
       "    }\n",
       "\n",
       "    .dataframe thead th {\n",
       "        text-align: right;\n",
       "    }\n",
       "</style>\n",
       "<table border=\"1\" class=\"dataframe\">\n",
       "  <thead>\n",
       "    <tr style=\"text-align: right;\">\n",
       "      <th></th>\n",
       "      <th>Artist</th>\n",
       "      <th>Title</th>\n",
       "      <th>Label</th>\n",
       "      <th>Format</th>\n",
       "      <th>Released</th>\n",
       "      <th>Date Added</th>\n",
       "    </tr>\n",
       "  </thead>\n",
       "  <tbody>\n",
       "    <tr>\n",
       "      <th>0</th>\n",
       "      <td>Baxter Dury</td>\n",
       "      <td>The Night Chancers</td>\n",
       "      <td>[PIAS] Le Label, [pias]</td>\n",
       "      <td>LP, Album, Ltd, Cry</td>\n",
       "      <td>2020</td>\n",
       "      <td>2021-12-24 08:03:27</td>\n",
       "    </tr>\n",
       "    <tr>\n",
       "      <th>1</th>\n",
       "      <td>Gary Moore</td>\n",
       "      <td>Victims Of The Future</td>\n",
       "      <td>10 Records</td>\n",
       "      <td>LP, Album</td>\n",
       "      <td>1984</td>\n",
       "      <td>2021-12-28 08:06:58</td>\n",
       "    </tr>\n",
       "    <tr>\n",
       "      <th>2</th>\n",
       "      <td>Maxi Priest</td>\n",
       "      <td>Bonafide</td>\n",
       "      <td>10 Records</td>\n",
       "      <td>LP, Album</td>\n",
       "      <td>1990</td>\n",
       "      <td>2020-06-12 19:31:31</td>\n",
       "    </tr>\n",
       "    <tr>\n",
       "      <th>3</th>\n",
       "      <td>Inner City</td>\n",
       "      <td>Ain't Nobody Better</td>\n",
       "      <td>10 Records, Virgin</td>\n",
       "      <td>12\", Single</td>\n",
       "      <td>1989</td>\n",
       "      <td>2020-06-08 12:29:11</td>\n",
       "    </tr>\n",
       "    <tr>\n",
       "      <th>4</th>\n",
       "      <td>Melodie Mc</td>\n",
       "      <td>I Wanna Dance</td>\n",
       "      <td>12INC</td>\n",
       "      <td>12\", Maxi</td>\n",
       "      <td>1993</td>\n",
       "      <td>2020-06-12 20:03:57</td>\n",
       "    </tr>\n",
       "  </tbody>\n",
       "</table>\n",
       "</div>"
      ],
      "text/plain": [
       "        Artist                  Title                    Label  \\\n",
       "0  Baxter Dury     The Night Chancers  [PIAS] Le Label, [pias]   \n",
       "1   Gary Moore  Victims Of The Future               10 Records   \n",
       "2  Maxi Priest               Bonafide               10 Records   \n",
       "3   Inner City    Ain't Nobody Better       10 Records, Virgin   \n",
       "4   Melodie Mc          I Wanna Dance                    12INC   \n",
       "\n",
       "                Format  Released           Date Added  \n",
       "0  LP, Album, Ltd, Cry      2020  2021-12-24 08:03:27  \n",
       "1            LP, Album      1984  2021-12-28 08:06:58  \n",
       "2            LP, Album      1990  2020-06-12 19:31:31  \n",
       "3          12\", Single      1989  2020-06-08 12:29:11  \n",
       "4            12\", Maxi      1993  2020-06-12 20:03:57  "
      ]
     },
     "execution_count": 146,
     "metadata": {},
     "output_type": "execute_result"
    }
   ],
   "source": [
    "df_discorgs.head()"
   ]
  },
  {
   "cell_type": "code",
   "execution_count": 147,
   "id": "c866ed1a",
   "metadata": {},
   "outputs": [
    {
     "data": {
      "text/plain": [
       "(3556, 6)"
      ]
     },
     "execution_count": 147,
     "metadata": {},
     "output_type": "execute_result"
    }
   ],
   "source": [
    "df_discorgs.shape"
   ]
  },
  {
   "cell_type": "code",
   "execution_count": 148,
   "id": "efbffc86",
   "metadata": {
    "scrolled": true
   },
   "outputs": [
    {
     "data": {
      "text/html": [
       "<div>\n",
       "<style scoped>\n",
       "    .dataframe tbody tr th:only-of-type {\n",
       "        vertical-align: middle;\n",
       "    }\n",
       "\n",
       "    .dataframe tbody tr th {\n",
       "        vertical-align: top;\n",
       "    }\n",
       "\n",
       "    .dataframe thead th {\n",
       "        text-align: right;\n",
       "    }\n",
       "</style>\n",
       "<table border=\"1\" class=\"dataframe\">\n",
       "  <thead>\n",
       "    <tr style=\"text-align: right;\">\n",
       "      <th></th>\n",
       "      <th>Artist</th>\n",
       "      <th>Title</th>\n",
       "      <th>Released</th>\n",
       "      <th>Genre</th>\n",
       "      <th>Country</th>\n",
       "      <th>Label</th>\n",
       "      <th>Type</th>\n",
       "    </tr>\n",
       "  </thead>\n",
       "  <tbody>\n",
       "    <tr>\n",
       "      <th>0</th>\n",
       "      <td>? (Question Mark) &amp; The Mysterians</td>\n",
       "      <td>96 Tears</td>\n",
       "      <td>1966.0</td>\n",
       "      <td>Rock</td>\n",
       "      <td>Germany</td>\n",
       "      <td>Ariola</td>\n",
       "      <td>Vinyl 45</td>\n",
       "    </tr>\n",
       "    <tr>\n",
       "      <th>1</th>\n",
       "      <td>\"D\" Train</td>\n",
       "      <td>You're The One For Me</td>\n",
       "      <td>1988.0</td>\n",
       "      <td>Disco</td>\n",
       "      <td>Canada</td>\n",
       "      <td>Prelude Records</td>\n",
       "      <td>Vinyl 33</td>\n",
       "    </tr>\n",
       "    <tr>\n",
       "      <th>2</th>\n",
       "      <td>101 Strings</td>\n",
       "      <td>Play The Blues</td>\n",
       "      <td>1958.0</td>\n",
       "      <td>Blues</td>\n",
       "      <td>USA</td>\n",
       "      <td>Pye Golden Guinea Records</td>\n",
       "      <td>Vinyl 33</td>\n",
       "    </tr>\n",
       "    <tr>\n",
       "      <th>3</th>\n",
       "      <td>101 Strings</td>\n",
       "      <td>The Soul Of Spain</td>\n",
       "      <td>1959.0</td>\n",
       "      <td>Classical</td>\n",
       "      <td>UK</td>\n",
       "      <td>Pye Golden Guinea Records</td>\n",
       "      <td>Vinyl 33</td>\n",
       "    </tr>\n",
       "    <tr>\n",
       "      <th>4</th>\n",
       "      <td>10cc</td>\n",
       "      <td>10 CC's Greatest Hits 1972-1978</td>\n",
       "      <td>1979.0</td>\n",
       "      <td>Art Rock</td>\n",
       "      <td>Greece</td>\n",
       "      <td>Mercury</td>\n",
       "      <td>Vinyl 33</td>\n",
       "    </tr>\n",
       "  </tbody>\n",
       "</table>\n",
       "</div>"
      ],
      "text/plain": [
       "                               Artist                            Title  \\\n",
       "0  ? (Question Mark) & The Mysterians                         96 Tears   \n",
       "1                           \"D\" Train            You're The One For Me   \n",
       "2                         101 Strings                   Play The Blues   \n",
       "3                         101 Strings                The Soul Of Spain   \n",
       "4                                10cc  10 CC's Greatest Hits 1972-1978   \n",
       "\n",
       "   Released      Genre  Country                      Label      Type  \n",
       "0    1966.0       Rock  Germany                     Ariola  Vinyl 45  \n",
       "1    1988.0      Disco   Canada            Prelude Records  Vinyl 33  \n",
       "2    1958.0      Blues      USA  Pye Golden Guinea Records  Vinyl 33  \n",
       "3    1959.0  Classical       UK  Pye Golden Guinea Records  Vinyl 33  \n",
       "4    1979.0   Art Rock   Greece                    Mercury  Vinyl 33  "
      ]
     },
     "execution_count": 148,
     "metadata": {},
     "output_type": "execute_result"
    }
   ],
   "source": [
    "df_home.head()"
   ]
  },
  {
   "cell_type": "code",
   "execution_count": 149,
   "id": "ee8c5ce6",
   "metadata": {},
   "outputs": [
    {
     "data": {
      "text/plain": [
       "(3579, 7)"
      ]
     },
     "execution_count": 149,
     "metadata": {},
     "output_type": "execute_result"
    }
   ],
   "source": [
    "df_home.shape"
   ]
  },
  {
   "cell_type": "markdown",
   "id": "31671f03",
   "metadata": {},
   "source": [
    "## Merge dataframes"
   ]
  },
  {
   "cell_type": "code",
   "execution_count": 150,
   "id": "38eb4ab4",
   "metadata": {
    "scrolled": false
   },
   "outputs": [],
   "source": [
    "df_merged = df_discorgs.merge(df_home,on='Title', how='inner',suffixes=('', '_y'))"
   ]
  },
  {
   "cell_type": "code",
   "execution_count": 151,
   "id": "b23d950d",
   "metadata": {},
   "outputs": [
    {
     "data": {
      "text/html": [
       "<div>\n",
       "<style scoped>\n",
       "    .dataframe tbody tr th:only-of-type {\n",
       "        vertical-align: middle;\n",
       "    }\n",
       "\n",
       "    .dataframe tbody tr th {\n",
       "        vertical-align: top;\n",
       "    }\n",
       "\n",
       "    .dataframe thead th {\n",
       "        text-align: right;\n",
       "    }\n",
       "</style>\n",
       "<table border=\"1\" class=\"dataframe\">\n",
       "  <thead>\n",
       "    <tr style=\"text-align: right;\">\n",
       "      <th></th>\n",
       "      <th>Artist</th>\n",
       "      <th>Title</th>\n",
       "      <th>Label</th>\n",
       "      <th>Format</th>\n",
       "      <th>Released</th>\n",
       "      <th>Date Added</th>\n",
       "      <th>Artist_y</th>\n",
       "      <th>Released_y</th>\n",
       "      <th>Genre</th>\n",
       "      <th>Country</th>\n",
       "      <th>Label_y</th>\n",
       "      <th>Type</th>\n",
       "    </tr>\n",
       "  </thead>\n",
       "  <tbody>\n",
       "    <tr>\n",
       "      <th>0</th>\n",
       "      <td>Baxter Dury</td>\n",
       "      <td>The Night Chancers</td>\n",
       "      <td>[PIAS] Le Label, [pias]</td>\n",
       "      <td>LP, Album, Ltd, Cry</td>\n",
       "      <td>2020</td>\n",
       "      <td>2021-12-24 08:03:27</td>\n",
       "      <td>Baxter Dury</td>\n",
       "      <td>2020.0</td>\n",
       "      <td>Alternative Rock</td>\n",
       "      <td>Europe</td>\n",
       "      <td>[PIAS] Le Label</td>\n",
       "      <td>Vinyl 33</td>\n",
       "    </tr>\n",
       "    <tr>\n",
       "      <th>1</th>\n",
       "      <td>Gary Moore</td>\n",
       "      <td>Victims Of The Future</td>\n",
       "      <td>10 Records</td>\n",
       "      <td>LP, Album</td>\n",
       "      <td>1984</td>\n",
       "      <td>2021-12-28 08:06:58</td>\n",
       "      <td>Gary Moore</td>\n",
       "      <td>1984.0</td>\n",
       "      <td>Rock</td>\n",
       "      <td>Greece</td>\n",
       "      <td>10 Records</td>\n",
       "      <td>Vinyl 33</td>\n",
       "    </tr>\n",
       "    <tr>\n",
       "      <th>2</th>\n",
       "      <td>Maxi Priest</td>\n",
       "      <td>Bonafide</td>\n",
       "      <td>10 Records</td>\n",
       "      <td>LP, Album</td>\n",
       "      <td>1990</td>\n",
       "      <td>2020-06-12 19:31:31</td>\n",
       "      <td>Maxi Priest ‎</td>\n",
       "      <td>1990.0</td>\n",
       "      <td>Pop Rap</td>\n",
       "      <td>Greece</td>\n",
       "      <td>10 Records</td>\n",
       "      <td>Vinyl 33</td>\n",
       "    </tr>\n",
       "    <tr>\n",
       "      <th>3</th>\n",
       "      <td>Inner City</td>\n",
       "      <td>Ain't Nobody Better</td>\n",
       "      <td>10 Records, Virgin</td>\n",
       "      <td>12\", Single</td>\n",
       "      <td>1989</td>\n",
       "      <td>2020-06-08 12:29:11</td>\n",
       "      <td>Inner City</td>\n",
       "      <td>1989.0</td>\n",
       "      <td>House</td>\n",
       "      <td>Greece</td>\n",
       "      <td>Virgin</td>\n",
       "      <td>Vinyl 33</td>\n",
       "    </tr>\n",
       "    <tr>\n",
       "      <th>4</th>\n",
       "      <td>Melodie Mc</td>\n",
       "      <td>I Wanna Dance</td>\n",
       "      <td>12INC</td>\n",
       "      <td>12\", Maxi</td>\n",
       "      <td>1993</td>\n",
       "      <td>2020-06-12 20:03:57</td>\n",
       "      <td>Melodie MC</td>\n",
       "      <td>1993.0</td>\n",
       "      <td>Euro House</td>\n",
       "      <td>Sweden</td>\n",
       "      <td>12INC</td>\n",
       "      <td>Vinyl 33</td>\n",
       "    </tr>\n",
       "    <tr>\n",
       "      <th>...</th>\n",
       "      <td>...</td>\n",
       "      <td>...</td>\n",
       "      <td>...</td>\n",
       "      <td>...</td>\n",
       "      <td>...</td>\n",
       "      <td>...</td>\n",
       "      <td>...</td>\n",
       "      <td>...</td>\n",
       "      <td>...</td>\n",
       "      <td>...</td>\n",
       "      <td>...</td>\n",
       "      <td>...</td>\n",
       "    </tr>\n",
       "    <tr>\n",
       "      <th>3781</th>\n",
       "      <td>Георги Димитров</td>\n",
       "      <td>Τελικός Λόγος Στη Δίκη Της Λειψίας-1933</td>\n",
       "      <td>Балкантон</td>\n",
       "      <td>LP, Mono</td>\n",
       "      <td>0</td>\n",
       "      <td>2020-05-30 14:01:20</td>\n",
       "      <td>Γκεόργκι Ντιμιτρόφ</td>\n",
       "      <td>NaN</td>\n",
       "      <td>Non-Music</td>\n",
       "      <td>Bulgaria</td>\n",
       "      <td>Балкантон</td>\n",
       "      <td>Vinyl 33</td>\n",
       "    </tr>\n",
       "    <tr>\n",
       "      <th>3782</th>\n",
       "      <td>Лили Иванова</td>\n",
       "      <td>Камино</td>\n",
       "      <td>Балкантон</td>\n",
       "      <td>LP, Album, Red</td>\n",
       "      <td>1969</td>\n",
       "      <td>2022-01-16 06:45:52</td>\n",
       "      <td>Лили Иванова</td>\n",
       "      <td>1969.0</td>\n",
       "      <td>Schlager</td>\n",
       "      <td>Bulgaria</td>\n",
       "      <td>Балкантон</td>\n",
       "      <td>Vinyl 33</td>\n",
       "    </tr>\n",
       "    <tr>\n",
       "      <th>3783</th>\n",
       "      <td>Various</td>\n",
       "      <td>Soviet Melodies</td>\n",
       "      <td>Мелодия</td>\n",
       "      <td>LP, Comp, Exp</td>\n",
       "      <td>1972</td>\n",
       "      <td>2021-08-15 14:55:21</td>\n",
       "      <td>Various</td>\n",
       "      <td>1972.0</td>\n",
       "      <td>Classical</td>\n",
       "      <td>USSR</td>\n",
       "      <td>Мелодия</td>\n",
       "      <td>Vinyl 33</td>\n",
       "    </tr>\n",
       "    <tr>\n",
       "      <th>3784</th>\n",
       "      <td>Нани Брегвадзе</td>\n",
       "      <td>Nani Bregvadze</td>\n",
       "      <td>Мелодия</td>\n",
       "      <td>LP</td>\n",
       "      <td>0</td>\n",
       "      <td>2020-06-13 17:03:30</td>\n",
       "      <td>Nani Bregvadze</td>\n",
       "      <td>1971.0</td>\n",
       "      <td>Ballad</td>\n",
       "      <td>USSR</td>\n",
       "      <td>Мелодия</td>\n",
       "      <td>Vinyl 33</td>\n",
       "    </tr>\n",
       "    <tr>\n",
       "      <th>3785</th>\n",
       "      <td>Sergei Prokofiev, Bolshoi Theatre Orchestra , ...</td>\n",
       "      <td>Romeo And Juliet. Fragments From The Ballet</td>\n",
       "      <td>Мелодия</td>\n",
       "      <td>LP, RP</td>\n",
       "      <td>1984</td>\n",
       "      <td>2020-06-16 21:13:23</td>\n",
       "      <td>S. Prokofiev, Bolshoi Theatre Orchestra , Cond...</td>\n",
       "      <td>1984.0</td>\n",
       "      <td>Classical</td>\n",
       "      <td>Greece</td>\n",
       "      <td>Мелодия</td>\n",
       "      <td>Vinyl 33</td>\n",
       "    </tr>\n",
       "  </tbody>\n",
       "</table>\n",
       "<p>3786 rows × 12 columns</p>\n",
       "</div>"
      ],
      "text/plain": [
       "                                                 Artist  \\\n",
       "0                                           Baxter Dury   \n",
       "1                                            Gary Moore   \n",
       "2                                           Maxi Priest   \n",
       "3                                            Inner City   \n",
       "4                                            Melodie Mc   \n",
       "...                                                 ...   \n",
       "3781                                    Георги Димитров   \n",
       "3782                                       Лили Иванова   \n",
       "3783                                            Various   \n",
       "3784                                     Нани Брегвадзе   \n",
       "3785  Sergei Prokofiev, Bolshoi Theatre Orchestra , ...   \n",
       "\n",
       "                                            Title                    Label  \\\n",
       "0                              The Night Chancers  [PIAS] Le Label, [pias]   \n",
       "1                           Victims Of The Future               10 Records   \n",
       "2                                        Bonafide               10 Records   \n",
       "3                             Ain't Nobody Better       10 Records, Virgin   \n",
       "4                                   I Wanna Dance                    12INC   \n",
       "...                                           ...                      ...   \n",
       "3781      Τελικός Λόγος Στη Δίκη Της Λειψίας-1933                Балкантон   \n",
       "3782                                       Камино                Балкантон   \n",
       "3783                              Soviet Melodies                  Мелодия   \n",
       "3784                               Nani Bregvadze                  Мелодия   \n",
       "3785  Romeo And Juliet. Fragments From The Ballet                  Мелодия   \n",
       "\n",
       "                   Format  Released           Date Added  \\\n",
       "0     LP, Album, Ltd, Cry      2020  2021-12-24 08:03:27   \n",
       "1               LP, Album      1984  2021-12-28 08:06:58   \n",
       "2               LP, Album      1990  2020-06-12 19:31:31   \n",
       "3             12\", Single      1989  2020-06-08 12:29:11   \n",
       "4               12\", Maxi      1993  2020-06-12 20:03:57   \n",
       "...                   ...       ...                  ...   \n",
       "3781             LP, Mono         0  2020-05-30 14:01:20   \n",
       "3782       LP, Album, Red      1969  2022-01-16 06:45:52   \n",
       "3783        LP, Comp, Exp      1972  2021-08-15 14:55:21   \n",
       "3784                   LP         0  2020-06-13 17:03:30   \n",
       "3785               LP, RP      1984  2020-06-16 21:13:23   \n",
       "\n",
       "                                               Artist_y  Released_y  \\\n",
       "0                                           Baxter Dury      2020.0   \n",
       "1                                            Gary Moore      1984.0   \n",
       "2                                         Maxi Priest ‎      1990.0   \n",
       "3                                            Inner City      1989.0   \n",
       "4                                            Melodie MC      1993.0   \n",
       "...                                                 ...         ...   \n",
       "3781                                 Γκεόργκι Ντιμιτρόφ         NaN   \n",
       "3782                                       Лили Иванова      1969.0   \n",
       "3783                                            Various      1972.0   \n",
       "3784                                     Nani Bregvadze      1971.0   \n",
       "3785  S. Prokofiev, Bolshoi Theatre Orchestra , Cond...      1984.0   \n",
       "\n",
       "                 Genre   Country          Label_y      Type  \n",
       "0     Alternative Rock    Europe  [PIAS] Le Label  Vinyl 33  \n",
       "1                 Rock    Greece       10 Records  Vinyl 33  \n",
       "2              Pop Rap    Greece       10 Records  Vinyl 33  \n",
       "3                House    Greece           Virgin  Vinyl 33  \n",
       "4           Euro House    Sweden            12INC  Vinyl 33  \n",
       "...                ...       ...              ...       ...  \n",
       "3781         Non-Music  Bulgaria        Балкантон  Vinyl 33  \n",
       "3782          Schlager  Bulgaria        Балкантон  Vinyl 33  \n",
       "3783         Classical      USSR          Мелодия  Vinyl 33  \n",
       "3784            Ballad      USSR          Мелодия  Vinyl 33  \n",
       "3785         Classical    Greece          Мелодия  Vinyl 33  \n",
       "\n",
       "[3786 rows x 12 columns]"
      ]
     },
     "execution_count": 151,
     "metadata": {},
     "output_type": "execute_result"
    }
   ],
   "source": [
    "df_merged"
   ]
  },
  {
   "cell_type": "code",
   "execution_count": 152,
   "id": "9f958a28",
   "metadata": {
    "scrolled": true
   },
   "outputs": [
    {
     "data": {
      "text/plain": [
       "(3786, 12)"
      ]
     },
     "execution_count": 152,
     "metadata": {},
     "output_type": "execute_result"
    }
   ],
   "source": [
    "df_merged.shape"
   ]
  },
  {
   "cell_type": "markdown",
   "id": "075a00a9",
   "metadata": {},
   "source": [
    "#### Drop duplicated columns and rearrange columns"
   ]
  },
  {
   "cell_type": "code",
   "execution_count": 153,
   "id": "6a11e1f8",
   "metadata": {},
   "outputs": [],
   "source": [
    "df_merged.drop(df_merged.filter(regex='_y$').columns.tolist(),axis=1, inplace=True)\n",
    "cols = [ 'Title','Artist', 'Genre', 'Released', 'Country',\n",
    " 'Label',\n",
    " 'Format',\n",
    " 'Date Added',\n",
    " 'Type'\n",
    "]\n",
    "df_merged = df_merged.reindex(columns=cols)"
   ]
  },
  {
   "cell_type": "markdown",
   "id": "5b3a9215",
   "metadata": {},
   "source": [
    "#### Check for duplicated rows and drop"
   ]
  },
  {
   "cell_type": "code",
   "execution_count": 154,
   "id": "241dc3fa",
   "metadata": {},
   "outputs": [
    {
     "data": {
      "text/plain": [
       "(3786, 9)"
      ]
     },
     "execution_count": 154,
     "metadata": {},
     "output_type": "execute_result"
    }
   ],
   "source": [
    "df_merged.shape"
   ]
  },
  {
   "cell_type": "code",
   "execution_count": 155,
   "id": "f7980a23",
   "metadata": {
    "scrolled": true
   },
   "outputs": [
    {
     "data": {
      "text/plain": [
       "68"
      ]
     },
     "execution_count": 155,
     "metadata": {},
     "output_type": "execute_result"
    }
   ],
   "source": [
    "df_merged.duplicated(subset=['Title','Artist', 'Genre', 'Released', 'Country',\n",
    " 'Label',\n",
    " 'Format','Type']).sum()"
   ]
  },
  {
   "cell_type": "markdown",
   "id": "ac74848f",
   "metadata": {},
   "source": [
    "> 68 discs were inserted twice by accident. *whoosh*"
   ]
  },
  {
   "cell_type": "code",
   "execution_count": 156,
   "id": "a9ea06a5",
   "metadata": {},
   "outputs": [],
   "source": [
    "dups = df_merged.loc[df_merged.duplicated(subset=['Title','Artist', 'Genre',\n",
    "                                           'Released', 'Country',\n",
    "                                           'Label','Format','Type'],keep=False), :]"
   ]
  },
  {
   "cell_type": "markdown",
   "id": "96c6fba9",
   "metadata": {},
   "source": [
    "> keep duplicates to certify errors"
   ]
  },
  {
   "cell_type": "code",
   "execution_count": 157,
   "id": "b005ff11",
   "metadata": {},
   "outputs": [],
   "source": [
    "df_merged.drop_duplicates(subset=['Title','Artist', 'Genre',\n",
    "                                  'Released', 'Country',\n",
    "                                  'Label','Format','Type'], keep='first', inplace=True)\n",
    "df_merged.reset_index(drop=True,inplace=True)"
   ]
  },
  {
   "cell_type": "code",
   "execution_count": 158,
   "id": "8741abe7",
   "metadata": {
    "scrolled": true
   },
   "outputs": [
    {
     "data": {
      "text/plain": [
       "(3718, 9)"
      ]
     },
     "execution_count": 158,
     "metadata": {},
     "output_type": "execute_result"
    }
   ],
   "source": [
    "df_merged.shape"
   ]
  },
  {
   "cell_type": "code",
   "execution_count": 159,
   "id": "f585574b",
   "metadata": {
    "scrolled": false
   },
   "outputs": [
    {
     "data": {
      "text/html": [
       "<div>\n",
       "<style scoped>\n",
       "    .dataframe tbody tr th:only-of-type {\n",
       "        vertical-align: middle;\n",
       "    }\n",
       "\n",
       "    .dataframe tbody tr th {\n",
       "        vertical-align: top;\n",
       "    }\n",
       "\n",
       "    .dataframe thead th {\n",
       "        text-align: right;\n",
       "    }\n",
       "</style>\n",
       "<table border=\"1\" class=\"dataframe\">\n",
       "  <thead>\n",
       "    <tr style=\"text-align: right;\">\n",
       "      <th></th>\n",
       "      <th>Title</th>\n",
       "      <th>Artist</th>\n",
       "      <th>Genre</th>\n",
       "      <th>Released</th>\n",
       "      <th>Country</th>\n",
       "      <th>Label</th>\n",
       "      <th>Format</th>\n",
       "      <th>Date Added</th>\n",
       "      <th>Type</th>\n",
       "    </tr>\n",
       "  </thead>\n",
       "  <tbody>\n",
       "    <tr>\n",
       "      <th>0</th>\n",
       "      <td>The Night Chancers</td>\n",
       "      <td>Baxter Dury</td>\n",
       "      <td>Alternative Rock</td>\n",
       "      <td>2020</td>\n",
       "      <td>Europe</td>\n",
       "      <td>[PIAS] Le Label, [pias]</td>\n",
       "      <td>LP, Album, Ltd, Cry</td>\n",
       "      <td>2021-12-24 08:03:27</td>\n",
       "      <td>Vinyl 33</td>\n",
       "    </tr>\n",
       "    <tr>\n",
       "      <th>1</th>\n",
       "      <td>Victims Of The Future</td>\n",
       "      <td>Gary Moore</td>\n",
       "      <td>Rock</td>\n",
       "      <td>1984</td>\n",
       "      <td>Greece</td>\n",
       "      <td>10 Records</td>\n",
       "      <td>LP, Album</td>\n",
       "      <td>2021-12-28 08:06:58</td>\n",
       "      <td>Vinyl 33</td>\n",
       "    </tr>\n",
       "    <tr>\n",
       "      <th>2</th>\n",
       "      <td>Bonafide</td>\n",
       "      <td>Maxi Priest</td>\n",
       "      <td>Pop Rap</td>\n",
       "      <td>1990</td>\n",
       "      <td>Greece</td>\n",
       "      <td>10 Records</td>\n",
       "      <td>LP, Album</td>\n",
       "      <td>2020-06-12 19:31:31</td>\n",
       "      <td>Vinyl 33</td>\n",
       "    </tr>\n",
       "    <tr>\n",
       "      <th>3</th>\n",
       "      <td>Ain't Nobody Better</td>\n",
       "      <td>Inner City</td>\n",
       "      <td>House</td>\n",
       "      <td>1989</td>\n",
       "      <td>Greece</td>\n",
       "      <td>10 Records, Virgin</td>\n",
       "      <td>12\", Single</td>\n",
       "      <td>2020-06-08 12:29:11</td>\n",
       "      <td>Vinyl 33</td>\n",
       "    </tr>\n",
       "    <tr>\n",
       "      <th>4</th>\n",
       "      <td>I Wanna Dance</td>\n",
       "      <td>Melodie Mc</td>\n",
       "      <td>Euro House</td>\n",
       "      <td>1993</td>\n",
       "      <td>Sweden</td>\n",
       "      <td>12INC</td>\n",
       "      <td>12\", Maxi</td>\n",
       "      <td>2020-06-12 20:03:57</td>\n",
       "      <td>Vinyl 33</td>\n",
       "    </tr>\n",
       "    <tr>\n",
       "      <th>...</th>\n",
       "      <td>...</td>\n",
       "      <td>...</td>\n",
       "      <td>...</td>\n",
       "      <td>...</td>\n",
       "      <td>...</td>\n",
       "      <td>...</td>\n",
       "      <td>...</td>\n",
       "      <td>...</td>\n",
       "      <td>...</td>\n",
       "    </tr>\n",
       "    <tr>\n",
       "      <th>3713</th>\n",
       "      <td>Τελικός Λόγος Στη Δίκη Της Λειψίας-1933</td>\n",
       "      <td>Георги Димитров</td>\n",
       "      <td>Non-Music</td>\n",
       "      <td>0</td>\n",
       "      <td>Bulgaria</td>\n",
       "      <td>Балкантон</td>\n",
       "      <td>LP, Mono</td>\n",
       "      <td>2020-05-30 14:01:20</td>\n",
       "      <td>Vinyl 33</td>\n",
       "    </tr>\n",
       "    <tr>\n",
       "      <th>3714</th>\n",
       "      <td>Камино</td>\n",
       "      <td>Лили Иванова</td>\n",
       "      <td>Schlager</td>\n",
       "      <td>1969</td>\n",
       "      <td>Bulgaria</td>\n",
       "      <td>Балкантон</td>\n",
       "      <td>LP, Album, Red</td>\n",
       "      <td>2022-01-16 06:45:52</td>\n",
       "      <td>Vinyl 33</td>\n",
       "    </tr>\n",
       "    <tr>\n",
       "      <th>3715</th>\n",
       "      <td>Soviet Melodies</td>\n",
       "      <td>Various</td>\n",
       "      <td>Classical</td>\n",
       "      <td>1972</td>\n",
       "      <td>USSR</td>\n",
       "      <td>Мелодия</td>\n",
       "      <td>LP, Comp, Exp</td>\n",
       "      <td>2021-08-15 14:55:21</td>\n",
       "      <td>Vinyl 33</td>\n",
       "    </tr>\n",
       "    <tr>\n",
       "      <th>3716</th>\n",
       "      <td>Nani Bregvadze</td>\n",
       "      <td>Нани Брегвадзе</td>\n",
       "      <td>Ballad</td>\n",
       "      <td>0</td>\n",
       "      <td>USSR</td>\n",
       "      <td>Мелодия</td>\n",
       "      <td>LP</td>\n",
       "      <td>2020-06-13 17:03:30</td>\n",
       "      <td>Vinyl 33</td>\n",
       "    </tr>\n",
       "    <tr>\n",
       "      <th>3717</th>\n",
       "      <td>Romeo And Juliet. Fragments From The Ballet</td>\n",
       "      <td>Sergei Prokofiev, Bolshoi Theatre Orchestra , ...</td>\n",
       "      <td>Classical</td>\n",
       "      <td>1984</td>\n",
       "      <td>Greece</td>\n",
       "      <td>Мелодия</td>\n",
       "      <td>LP, RP</td>\n",
       "      <td>2020-06-16 21:13:23</td>\n",
       "      <td>Vinyl 33</td>\n",
       "    </tr>\n",
       "  </tbody>\n",
       "</table>\n",
       "<p>3718 rows × 9 columns</p>\n",
       "</div>"
      ],
      "text/plain": [
       "                                            Title  \\\n",
       "0                              The Night Chancers   \n",
       "1                           Victims Of The Future   \n",
       "2                                        Bonafide   \n",
       "3                             Ain't Nobody Better   \n",
       "4                                   I Wanna Dance   \n",
       "...                                           ...   \n",
       "3713      Τελικός Λόγος Στη Δίκη Της Λειψίας-1933   \n",
       "3714                                       Камино   \n",
       "3715                              Soviet Melodies   \n",
       "3716                               Nani Bregvadze   \n",
       "3717  Romeo And Juliet. Fragments From The Ballet   \n",
       "\n",
       "                                                 Artist             Genre  \\\n",
       "0                                           Baxter Dury  Alternative Rock   \n",
       "1                                            Gary Moore              Rock   \n",
       "2                                           Maxi Priest           Pop Rap   \n",
       "3                                            Inner City             House   \n",
       "4                                            Melodie Mc        Euro House   \n",
       "...                                                 ...               ...   \n",
       "3713                                    Георги Димитров         Non-Music   \n",
       "3714                                       Лили Иванова          Schlager   \n",
       "3715                                            Various         Classical   \n",
       "3716                                     Нани Брегвадзе            Ballad   \n",
       "3717  Sergei Prokofiev, Bolshoi Theatre Orchestra , ...         Classical   \n",
       "\n",
       "      Released   Country                    Label               Format  \\\n",
       "0         2020    Europe  [PIAS] Le Label, [pias]  LP, Album, Ltd, Cry   \n",
       "1         1984    Greece               10 Records            LP, Album   \n",
       "2         1990    Greece               10 Records            LP, Album   \n",
       "3         1989    Greece       10 Records, Virgin          12\", Single   \n",
       "4         1993    Sweden                    12INC            12\", Maxi   \n",
       "...        ...       ...                      ...                  ...   \n",
       "3713         0  Bulgaria                Балкантон             LP, Mono   \n",
       "3714      1969  Bulgaria                Балкантон       LP, Album, Red   \n",
       "3715      1972      USSR                  Мелодия        LP, Comp, Exp   \n",
       "3716         0      USSR                  Мелодия                   LP   \n",
       "3717      1984    Greece                  Мелодия               LP, RP   \n",
       "\n",
       "               Date Added      Type  \n",
       "0     2021-12-24 08:03:27  Vinyl 33  \n",
       "1     2021-12-28 08:06:58  Vinyl 33  \n",
       "2     2020-06-12 19:31:31  Vinyl 33  \n",
       "3     2020-06-08 12:29:11  Vinyl 33  \n",
       "4     2020-06-12 20:03:57  Vinyl 33  \n",
       "...                   ...       ...  \n",
       "3713  2020-05-30 14:01:20  Vinyl 33  \n",
       "3714  2022-01-16 06:45:52  Vinyl 33  \n",
       "3715  2021-08-15 14:55:21  Vinyl 33  \n",
       "3716  2020-06-13 17:03:30  Vinyl 33  \n",
       "3717  2020-06-16 21:13:23  Vinyl 33  \n",
       "\n",
       "[3718 rows x 9 columns]"
      ]
     },
     "execution_count": 159,
     "metadata": {},
     "output_type": "execute_result"
    }
   ],
   "source": [
    "df_merged"
   ]
  },
  {
   "cell_type": "markdown",
   "id": "bb8a8ba5",
   "metadata": {},
   "source": [
    "## Export to excel file"
   ]
  },
  {
   "cell_type": "code",
   "execution_count": 160,
   "id": "ff0a0c16",
   "metadata": {},
   "outputs": [],
   "source": [
    "df_merged.to_excel('gopera_collection_test.xlsx', index=False)"
   ]
  }
 ],
 "metadata": {
  "kernelspec": {
   "display_name": "Python 3 (ipykernel)",
   "language": "python",
   "name": "python3"
  },
  "language_info": {
   "codemirror_mode": {
    "name": "ipython",
    "version": 3
   },
   "file_extension": ".py",
   "mimetype": "text/x-python",
   "name": "python",
   "nbconvert_exporter": "python",
   "pygments_lexer": "ipython3",
   "version": "3.9.7"
  }
 },
 "nbformat": 4,
 "nbformat_minor": 5
}
