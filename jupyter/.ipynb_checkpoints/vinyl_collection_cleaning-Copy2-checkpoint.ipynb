{
 "cells": [
  {
   "cell_type": "markdown",
   "id": "f1160e6f",
   "metadata": {},
   "source": [
    "# Merge and clean datasets"
   ]
  },
  {
   "cell_type": "code",
   "execution_count": 176,
   "id": "73b83149",
   "metadata": {},
   "outputs": [],
   "source": [
    "import pandas as pd"
   ]
  },
  {
   "cell_type": "markdown",
   "id": "d070973b",
   "metadata": {},
   "source": [
    "#### Load the dataframes"
   ]
  },
  {
   "cell_type": "code",
   "execution_count": 177,
   "id": "30a07654",
   "metadata": {},
   "outputs": [],
   "source": [
    "def load_data():\n",
    "    df1 = pd.read_csv('discorgs_collection.csv')\n",
    "    df2 = pd.read_excel('all_discs.xlsx')\n",
    "    return df1, df2"
   ]
  },
  {
   "cell_type": "code",
   "execution_count": 178,
   "id": "a9669a27",
   "metadata": {},
   "outputs": [],
   "source": [
    "df_discorgs, df_home = load_data()"
   ]
  },
  {
   "cell_type": "markdown",
   "id": "1782bc3b",
   "metadata": {},
   "source": [
    "> df_discorgs refers to the dataset exporting by Discorgs. THe largest online music database.\n",
    "df_home is my father's sheet for keaping track. \n",
    "Some discs are not available at discorgs so they'"
   ]
  },
  {
   "cell_type": "markdown",
   "id": "05a01f17",
   "metadata": {},
   "source": [
    "## Clean data"
   ]
  },
  {
   "cell_type": "markdown",
   "id": "3f6cb419",
   "metadata": {},
   "source": [
    "#### Drop unused columns and replace NAs"
   ]
  },
  {
   "cell_type": "code",
   "execution_count": 179,
   "id": "0e4d20ec",
   "metadata": {},
   "outputs": [],
   "source": [
    "df_discorgs.drop(['Catalog#', 'Rating', 'release_id', 'CollectionFolder', 'Collection Media Condition', 'Collection Sleeve Condition','Collection Notes'],axis=1,inplace=True)"
   ]
  },
  {
   "cell_type": "code",
   "execution_count": 180,
   "id": "71b7897e",
   "metadata": {},
   "outputs": [],
   "source": [
    "df_home.drop('CAT#', axis=1 , inplace=True)\n",
    "df_home.drop(list(df_home.filter(regex = 'Unnamed')), axis = 1, inplace = True)\n",
    "df_home.fillna('No info', inplace=True)"
   ]
  },
  {
   "cell_type": "code",
   "execution_count": 181,
   "id": "c034f277",
   "metadata": {
    "scrolled": true
   },
   "outputs": [
    {
     "data": {
      "text/html": [
       "<div>\n",
       "<style scoped>\n",
       "    .dataframe tbody tr th:only-of-type {\n",
       "        vertical-align: middle;\n",
       "    }\n",
       "\n",
       "    .dataframe tbody tr th {\n",
       "        vertical-align: top;\n",
       "    }\n",
       "\n",
       "    .dataframe thead th {\n",
       "        text-align: right;\n",
       "    }\n",
       "</style>\n",
       "<table border=\"1\" class=\"dataframe\">\n",
       "  <thead>\n",
       "    <tr style=\"text-align: right;\">\n",
       "      <th></th>\n",
       "      <th>Artist</th>\n",
       "      <th>Title</th>\n",
       "      <th>Label</th>\n",
       "      <th>Format</th>\n",
       "      <th>Released</th>\n",
       "      <th>Date Added</th>\n",
       "    </tr>\n",
       "  </thead>\n",
       "  <tbody>\n",
       "    <tr>\n",
       "      <th>0</th>\n",
       "      <td>Maxi Priest</td>\n",
       "      <td>Bonafide</td>\n",
       "      <td>10 Records</td>\n",
       "      <td>LP, Album</td>\n",
       "      <td>1990</td>\n",
       "      <td>2020-06-12 19:31:31</td>\n",
       "    </tr>\n",
       "    <tr>\n",
       "      <th>1</th>\n",
       "      <td>Inner City</td>\n",
       "      <td>Ain't Nobody Better</td>\n",
       "      <td>10 Records, Virgin</td>\n",
       "      <td>12\", Single</td>\n",
       "      <td>1989</td>\n",
       "      <td>2020-06-08 12:29:11</td>\n",
       "    </tr>\n",
       "    <tr>\n",
       "      <th>2</th>\n",
       "      <td>Melodie Mc</td>\n",
       "      <td>I Wanna Dance</td>\n",
       "      <td>12INC</td>\n",
       "      <td>12\", Maxi</td>\n",
       "      <td>1993</td>\n",
       "      <td>2020-06-12 20:03:57</td>\n",
       "    </tr>\n",
       "    <tr>\n",
       "      <th>3</th>\n",
       "      <td>The Alan Parsons Project</td>\n",
       "      <td>Tales Of Mystery And Imagination</td>\n",
       "      <td>20th Century Records, Philips</td>\n",
       "      <td>LP, Album, Gat</td>\n",
       "      <td>1977</td>\n",
       "      <td>2020-06-01 20:13:23</td>\n",
       "    </tr>\n",
       "    <tr>\n",
       "      <th>4</th>\n",
       "      <td>John Themis</td>\n",
       "      <td>Sirens</td>\n",
       "      <td>4AD</td>\n",
       "      <td>LP, Album</td>\n",
       "      <td>1983</td>\n",
       "      <td>2020-06-10 13:19:35</td>\n",
       "    </tr>\n",
       "  </tbody>\n",
       "</table>\n",
       "</div>"
      ],
      "text/plain": [
       "                     Artist                             Title  \\\n",
       "0               Maxi Priest                          Bonafide   \n",
       "1                Inner City               Ain't Nobody Better   \n",
       "2                Melodie Mc                     I Wanna Dance   \n",
       "3  The Alan Parsons Project  Tales Of Mystery And Imagination   \n",
       "4               John Themis                            Sirens   \n",
       "\n",
       "                           Label          Format  Released  \\\n",
       "0                     10 Records       LP, Album      1990   \n",
       "1             10 Records, Virgin     12\", Single      1989   \n",
       "2                          12INC       12\", Maxi      1993   \n",
       "3  20th Century Records, Philips  LP, Album, Gat      1977   \n",
       "4                            4AD       LP, Album      1983   \n",
       "\n",
       "            Date Added  \n",
       "0  2020-06-12 19:31:31  \n",
       "1  2020-06-08 12:29:11  \n",
       "2  2020-06-12 20:03:57  \n",
       "3  2020-06-01 20:13:23  \n",
       "4  2020-06-10 13:19:35  "
      ]
     },
     "execution_count": 181,
     "metadata": {},
     "output_type": "execute_result"
    }
   ],
   "source": [
    "df_discorgs.head()"
   ]
  },
  {
   "cell_type": "code",
   "execution_count": 182,
   "id": "cc1bc83d",
   "metadata": {},
   "outputs": [
    {
     "data": {
      "text/plain": [
       "(3121, 6)"
      ]
     },
     "execution_count": 182,
     "metadata": {},
     "output_type": "execute_result"
    }
   ],
   "source": [
    "df_discorgs.shape"
   ]
  },
  {
   "cell_type": "code",
   "execution_count": 183,
   "id": "4da2b395",
   "metadata": {
    "scrolled": true
   },
   "outputs": [
    {
     "data": {
      "text/html": [
       "<div>\n",
       "<style scoped>\n",
       "    .dataframe tbody tr th:only-of-type {\n",
       "        vertical-align: middle;\n",
       "    }\n",
       "\n",
       "    .dataframe tbody tr th {\n",
       "        vertical-align: top;\n",
       "    }\n",
       "\n",
       "    .dataframe thead th {\n",
       "        text-align: right;\n",
       "    }\n",
       "</style>\n",
       "<table border=\"1\" class=\"dataframe\">\n",
       "  <thead>\n",
       "    <tr style=\"text-align: right;\">\n",
       "      <th></th>\n",
       "      <th>Title</th>\n",
       "      <th>Artist</th>\n",
       "      <th>Released</th>\n",
       "      <th>Genre</th>\n",
       "      <th>Country</th>\n",
       "      <th>Label</th>\n",
       "    </tr>\n",
       "  </thead>\n",
       "  <tbody>\n",
       "    <tr>\n",
       "      <th>0</th>\n",
       "      <td>02:00:00</td>\n",
       "      <td>Bazaar (6), Istanbul Express</td>\n",
       "      <td>1984</td>\n",
       "      <td>Folk</td>\n",
       "      <td>Greece</td>\n",
       "      <td>Virgin</td>\n",
       "    </tr>\n",
       "    <tr>\n",
       "      <th>1</th>\n",
       "      <td>1</td>\n",
       "      <td>Θέμης Αδαμαντίδης</td>\n",
       "      <td>1988</td>\n",
       "      <td>Laïkó</td>\n",
       "      <td>Greece</td>\n",
       "      <td>DPI Athenaeum</td>\n",
       "    </tr>\n",
       "    <tr>\n",
       "      <th>2</th>\n",
       "      <td>2</td>\n",
       "      <td>Black Heart Procession,The</td>\n",
       "      <td>2014</td>\n",
       "      <td>Indie Rock</td>\n",
       "      <td>USA</td>\n",
       "      <td>Touch And Go</td>\n",
       "    </tr>\n",
       "    <tr>\n",
       "      <th>3</th>\n",
       "      <td>1234</td>\n",
       "      <td>Propaganda</td>\n",
       "      <td>1990</td>\n",
       "      <td>Pop Rock</td>\n",
       "      <td>Greece</td>\n",
       "      <td>Virgin</td>\n",
       "    </tr>\n",
       "    <tr>\n",
       "      <th>4</th>\n",
       "      <td>90125</td>\n",
       "      <td>Yes</td>\n",
       "      <td>1983</td>\n",
       "      <td>Rock</td>\n",
       "      <td>Greece</td>\n",
       "      <td>ATCO Records</td>\n",
       "    </tr>\n",
       "  </tbody>\n",
       "</table>\n",
       "</div>"
      ],
      "text/plain": [
       "      Title                        Artist Released       Genre Country  \\\n",
       "0  02:00:00  Bazaar (6), Istanbul Express     1984        Folk  Greece   \n",
       "1         1             Θέμης Αδαμαντίδης     1988       Laïkó  Greece   \n",
       "2         2    Black Heart Procession,The     2014  Indie Rock     USA   \n",
       "3      1234                    Propaganda     1990    Pop Rock  Greece   \n",
       "4     90125                           Yes     1983        Rock  Greece   \n",
       "\n",
       "           Label  \n",
       "0         Virgin  \n",
       "1  DPI Athenaeum  \n",
       "2   Touch And Go  \n",
       "3         Virgin  \n",
       "4   ATCO Records  "
      ]
     },
     "execution_count": 183,
     "metadata": {},
     "output_type": "execute_result"
    }
   ],
   "source": [
    "df_home.head()"
   ]
  },
  {
   "cell_type": "code",
   "execution_count": 184,
   "id": "4a5438db",
   "metadata": {},
   "outputs": [
    {
     "data": {
      "text/plain": [
       "(3390, 6)"
      ]
     },
     "execution_count": 184,
     "metadata": {},
     "output_type": "execute_result"
    }
   ],
   "source": [
    "df_home.shape"
   ]
  },
  {
   "cell_type": "markdown",
   "id": "3edc84b2",
   "metadata": {},
   "source": [
    "## Merge dataframes"
   ]
  },
  {
   "cell_type": "code",
   "execution_count": 185,
   "id": "38eb4ab4",
   "metadata": {
    "scrolled": false
   },
   "outputs": [
    {
     "data": {
      "text/html": [
       "<div>\n",
       "<style scoped>\n",
       "    .dataframe tbody tr th:only-of-type {\n",
       "        vertical-align: middle;\n",
       "    }\n",
       "\n",
       "    .dataframe tbody tr th {\n",
       "        vertical-align: top;\n",
       "    }\n",
       "\n",
       "    .dataframe thead th {\n",
       "        text-align: right;\n",
       "    }\n",
       "</style>\n",
       "<table border=\"1\" class=\"dataframe\">\n",
       "  <thead>\n",
       "    <tr style=\"text-align: right;\">\n",
       "      <th></th>\n",
       "      <th>Artist</th>\n",
       "      <th>Title</th>\n",
       "      <th>Label</th>\n",
       "      <th>Format</th>\n",
       "      <th>Released</th>\n",
       "      <th>Date Added</th>\n",
       "      <th>Artist_y</th>\n",
       "      <th>Released_y</th>\n",
       "      <th>Genre</th>\n",
       "      <th>Country</th>\n",
       "      <th>Label_y</th>\n",
       "    </tr>\n",
       "  </thead>\n",
       "  <tbody>\n",
       "    <tr>\n",
       "      <th>0</th>\n",
       "      <td>Maxi Priest</td>\n",
       "      <td>Bonafide</td>\n",
       "      <td>10 Records</td>\n",
       "      <td>LP, Album</td>\n",
       "      <td>1990</td>\n",
       "      <td>2020-06-12 19:31:31</td>\n",
       "      <td>Maxi Priest ‎</td>\n",
       "      <td>1990</td>\n",
       "      <td>Pop Rap</td>\n",
       "      <td>Greece</td>\n",
       "      <td>10 Records</td>\n",
       "    </tr>\n",
       "    <tr>\n",
       "      <th>1</th>\n",
       "      <td>Inner City</td>\n",
       "      <td>Ain't Nobody Better</td>\n",
       "      <td>10 Records, Virgin</td>\n",
       "      <td>12\", Single</td>\n",
       "      <td>1989</td>\n",
       "      <td>2020-06-08 12:29:11</td>\n",
       "      <td>Inner City</td>\n",
       "      <td>1989</td>\n",
       "      <td>House</td>\n",
       "      <td>Greece</td>\n",
       "      <td>Virgin</td>\n",
       "    </tr>\n",
       "    <tr>\n",
       "      <th>2</th>\n",
       "      <td>Melodie Mc</td>\n",
       "      <td>I Wanna Dance</td>\n",
       "      <td>12INC</td>\n",
       "      <td>12\", Maxi</td>\n",
       "      <td>1993</td>\n",
       "      <td>2020-06-12 20:03:57</td>\n",
       "      <td>Melodie MC</td>\n",
       "      <td>1993</td>\n",
       "      <td>Euro House</td>\n",
       "      <td>Sweden</td>\n",
       "      <td>12INC</td>\n",
       "    </tr>\n",
       "    <tr>\n",
       "      <th>3</th>\n",
       "      <td>John Themis</td>\n",
       "      <td>Sirens</td>\n",
       "      <td>4AD</td>\n",
       "      <td>LP, Album</td>\n",
       "      <td>1983</td>\n",
       "      <td>2020-06-10 13:19:35</td>\n",
       "      <td>John Themis</td>\n",
       "      <td>1983</td>\n",
       "      <td>Contemporary Jazz</td>\n",
       "      <td>Greece</td>\n",
       "      <td>4AD</td>\n",
       "    </tr>\n",
       "    <tr>\n",
       "      <th>4</th>\n",
       "      <td>The Breeders</td>\n",
       "      <td>Cannonball</td>\n",
       "      <td>4AD</td>\n",
       "      <td>12\", Single</td>\n",
       "      <td>1993</td>\n",
       "      <td>2020-06-03 06:30:12</td>\n",
       "      <td>Breeders,The ‎</td>\n",
       "      <td>1993</td>\n",
       "      <td>Altemative Rock</td>\n",
       "      <td>UK</td>\n",
       "      <td>4AD</td>\n",
       "    </tr>\n",
       "    <tr>\n",
       "      <th>...</th>\n",
       "      <td>...</td>\n",
       "      <td>...</td>\n",
       "      <td>...</td>\n",
       "      <td>...</td>\n",
       "      <td>...</td>\n",
       "      <td>...</td>\n",
       "      <td>...</td>\n",
       "      <td>...</td>\n",
       "      <td>...</td>\n",
       "      <td>...</td>\n",
       "      <td>...</td>\n",
       "    </tr>\n",
       "    <tr>\n",
       "      <th>3295</th>\n",
       "      <td>Manos Hadjidakis</td>\n",
       "      <td>Sweet Movie</td>\n",
       "      <td>Πολύτροπον, Lyra</td>\n",
       "      <td>LP, Album</td>\n",
       "      <td>1974</td>\n",
       "      <td>2020-05-31 08:31:18</td>\n",
       "      <td>Μάνος Χατζιδάκις</td>\n",
       "      <td>1974</td>\n",
       "      <td>Éntekhno</td>\n",
       "      <td>Greece</td>\n",
       "      <td>Πολύτροπον</td>\n",
       "    </tr>\n",
       "    <tr>\n",
       "      <th>3296</th>\n",
       "      <td>Георги Димитров</td>\n",
       "      <td>Τελικός Λόγος Στη Δίκη Της Λειψίας-1933</td>\n",
       "      <td>Балкантон</td>\n",
       "      <td>LP, Mono</td>\n",
       "      <td>0</td>\n",
       "      <td>2020-05-30 14:01:20</td>\n",
       "      <td>Γκεόργκι Ντιμιτρόφ</td>\n",
       "      <td>No info</td>\n",
       "      <td>Non-Music</td>\n",
       "      <td>Bulgaria</td>\n",
       "      <td>Балкантон</td>\n",
       "    </tr>\n",
       "    <tr>\n",
       "      <th>3297</th>\n",
       "      <td>Various</td>\n",
       "      <td>Soviet Melodies</td>\n",
       "      <td>Мелодия</td>\n",
       "      <td>LP, Comp, Exp</td>\n",
       "      <td>1972</td>\n",
       "      <td>2021-08-15 14:55:21</td>\n",
       "      <td>Various</td>\n",
       "      <td>1972</td>\n",
       "      <td>Classical</td>\n",
       "      <td>USSR</td>\n",
       "      <td>Мелодия</td>\n",
       "    </tr>\n",
       "    <tr>\n",
       "      <th>3298</th>\n",
       "      <td>Нани Брегвадзе</td>\n",
       "      <td>Nani Bregvadze</td>\n",
       "      <td>Мелодия</td>\n",
       "      <td>LP</td>\n",
       "      <td>0</td>\n",
       "      <td>2020-06-13 17:03:30</td>\n",
       "      <td>Nani Bregvadze</td>\n",
       "      <td>1971</td>\n",
       "      <td>Ballad</td>\n",
       "      <td>USSR</td>\n",
       "      <td>Мелодия</td>\n",
       "    </tr>\n",
       "    <tr>\n",
       "      <th>3299</th>\n",
       "      <td>Sergei Prokofiev, Bolshoi Theatre Orchestra , ...</td>\n",
       "      <td>Romeo And Juliet. Fragments From The Ballet</td>\n",
       "      <td>Мелодия</td>\n",
       "      <td>LP, RP</td>\n",
       "      <td>1984</td>\n",
       "      <td>2020-06-16 21:13:23</td>\n",
       "      <td>S. Prokofiev, Bolshoi Theatre Orchestra , Cond...</td>\n",
       "      <td>1984</td>\n",
       "      <td>Classical</td>\n",
       "      <td>Greece</td>\n",
       "      <td>Мелодия</td>\n",
       "    </tr>\n",
       "  </tbody>\n",
       "</table>\n",
       "<p>3300 rows × 11 columns</p>\n",
       "</div>"
      ],
      "text/plain": [
       "                                                 Artist  \\\n",
       "0                                           Maxi Priest   \n",
       "1                                            Inner City   \n",
       "2                                            Melodie Mc   \n",
       "3                                           John Themis   \n",
       "4                                          The Breeders   \n",
       "...                                                 ...   \n",
       "3295                                   Manos Hadjidakis   \n",
       "3296                                    Георги Димитров   \n",
       "3297                                            Various   \n",
       "3298                                     Нани Брегвадзе   \n",
       "3299  Sergei Prokofiev, Bolshoi Theatre Orchestra , ...   \n",
       "\n",
       "                                            Title               Label  \\\n",
       "0                                        Bonafide          10 Records   \n",
       "1                             Ain't Nobody Better  10 Records, Virgin   \n",
       "2                                   I Wanna Dance               12INC   \n",
       "3                                          Sirens                 4AD   \n",
       "4                                      Cannonball                 4AD   \n",
       "...                                           ...                 ...   \n",
       "3295                                  Sweet Movie    Πολύτροπον, Lyra   \n",
       "3296      Τελικός Λόγος Στη Δίκη Της Λειψίας-1933           Балкантон   \n",
       "3297                              Soviet Melodies             Мелодия   \n",
       "3298                               Nani Bregvadze             Мелодия   \n",
       "3299  Romeo And Juliet. Fragments From The Ballet             Мелодия   \n",
       "\n",
       "             Format  Released           Date Added  \\\n",
       "0         LP, Album      1990  2020-06-12 19:31:31   \n",
       "1       12\", Single      1989  2020-06-08 12:29:11   \n",
       "2         12\", Maxi      1993  2020-06-12 20:03:57   \n",
       "3         LP, Album      1983  2020-06-10 13:19:35   \n",
       "4       12\", Single      1993  2020-06-03 06:30:12   \n",
       "...             ...       ...                  ...   \n",
       "3295      LP, Album      1974  2020-05-31 08:31:18   \n",
       "3296       LP, Mono         0  2020-05-30 14:01:20   \n",
       "3297  LP, Comp, Exp      1972  2021-08-15 14:55:21   \n",
       "3298             LP         0  2020-06-13 17:03:30   \n",
       "3299         LP, RP      1984  2020-06-16 21:13:23   \n",
       "\n",
       "                                               Artist_y Released_y  \\\n",
       "0                                         Maxi Priest ‎       1990   \n",
       "1                                            Inner City       1989   \n",
       "2                                            Melodie MC       1993   \n",
       "3                                           John Themis       1983   \n",
       "4                                        Breeders,The ‎       1993   \n",
       "...                                                 ...        ...   \n",
       "3295                                   Μάνος Χατζιδάκις       1974   \n",
       "3296                                 Γκεόργκι Ντιμιτρόφ    No info   \n",
       "3297                                            Various       1972   \n",
       "3298                                     Nani Bregvadze       1971   \n",
       "3299  S. Prokofiev, Bolshoi Theatre Orchestra , Cond...       1984   \n",
       "\n",
       "                  Genre   Country     Label_y  \n",
       "0               Pop Rap    Greece  10 Records  \n",
       "1                 House    Greece      Virgin  \n",
       "2            Euro House    Sweden       12INC  \n",
       "3     Contemporary Jazz    Greece         4AD  \n",
       "4       Altemative Rock        UK         4AD  \n",
       "...                 ...       ...         ...  \n",
       "3295           Éntekhno    Greece  Πολύτροπον  \n",
       "3296          Non-Music  Bulgaria   Балкантон  \n",
       "3297          Classical      USSR     Мелодия  \n",
       "3298             Ballad      USSR     Мелодия  \n",
       "3299          Classical    Greece     Мелодия  \n",
       "\n",
       "[3300 rows x 11 columns]"
      ]
     },
     "execution_count": 185,
     "metadata": {},
     "output_type": "execute_result"
    }
   ],
   "source": [
    "df_merged = df_discorgs.merge(df_home,on='Title', how='inner',suffixes=('', '_y'))\n",
    "df_merged"
   ]
  },
  {
   "cell_type": "code",
   "execution_count": 186,
   "id": "b436167d",
   "metadata": {},
   "outputs": [
    {
     "data": {
      "text/plain": [
       "(3300, 11)"
      ]
     },
     "execution_count": 186,
     "metadata": {},
     "output_type": "execute_result"
    }
   ],
   "source": [
    "df_merged.shape"
   ]
  },
  {
   "cell_type": "markdown",
   "id": "7607e7ca",
   "metadata": {},
   "source": [
    "#### Drop duplicated columns and rearrange columns"
   ]
  },
  {
   "cell_type": "code",
   "execution_count": 187,
   "id": "00e69862",
   "metadata": {},
   "outputs": [],
   "source": [
    "df_merged.drop(df_merged.filter(regex='_y$').columns.tolist(),axis=1, inplace=True)\n",
    "cols = [ 'Title','Artist', 'Genre', 'Released', 'Country',\n",
    " 'Label',\n",
    " 'Format',\n",
    " 'Date Added',\n",
    "]\n",
    "df_merged = df_merged.reindex(columns=cols)"
   ]
  },
  {
   "cell_type": "code",
   "execution_count": 188,
   "id": "c8efc403",
   "metadata": {},
   "outputs": [
    {
     "data": {
      "text/html": [
       "<div>\n",
       "<style scoped>\n",
       "    .dataframe tbody tr th:only-of-type {\n",
       "        vertical-align: middle;\n",
       "    }\n",
       "\n",
       "    .dataframe tbody tr th {\n",
       "        vertical-align: top;\n",
       "    }\n",
       "\n",
       "    .dataframe thead th {\n",
       "        text-align: right;\n",
       "    }\n",
       "</style>\n",
       "<table border=\"1\" class=\"dataframe\">\n",
       "  <thead>\n",
       "    <tr style=\"text-align: right;\">\n",
       "      <th></th>\n",
       "      <th>Title</th>\n",
       "      <th>Artist</th>\n",
       "      <th>Genre</th>\n",
       "      <th>Released</th>\n",
       "      <th>Country</th>\n",
       "      <th>Label</th>\n",
       "      <th>Format</th>\n",
       "      <th>Date Added</th>\n",
       "    </tr>\n",
       "  </thead>\n",
       "  <tbody>\n",
       "    <tr>\n",
       "      <th>0</th>\n",
       "      <td>Bonafide</td>\n",
       "      <td>Maxi Priest</td>\n",
       "      <td>Pop Rap</td>\n",
       "      <td>1990</td>\n",
       "      <td>Greece</td>\n",
       "      <td>10 Records</td>\n",
       "      <td>LP, Album</td>\n",
       "      <td>2020-06-12 19:31:31</td>\n",
       "    </tr>\n",
       "    <tr>\n",
       "      <th>1</th>\n",
       "      <td>Ain't Nobody Better</td>\n",
       "      <td>Inner City</td>\n",
       "      <td>House</td>\n",
       "      <td>1989</td>\n",
       "      <td>Greece</td>\n",
       "      <td>10 Records, Virgin</td>\n",
       "      <td>12\", Single</td>\n",
       "      <td>2020-06-08 12:29:11</td>\n",
       "    </tr>\n",
       "    <tr>\n",
       "      <th>2</th>\n",
       "      <td>I Wanna Dance</td>\n",
       "      <td>Melodie Mc</td>\n",
       "      <td>Euro House</td>\n",
       "      <td>1993</td>\n",
       "      <td>Sweden</td>\n",
       "      <td>12INC</td>\n",
       "      <td>12\", Maxi</td>\n",
       "      <td>2020-06-12 20:03:57</td>\n",
       "    </tr>\n",
       "    <tr>\n",
       "      <th>3</th>\n",
       "      <td>Sirens</td>\n",
       "      <td>John Themis</td>\n",
       "      <td>Contemporary Jazz</td>\n",
       "      <td>1983</td>\n",
       "      <td>Greece</td>\n",
       "      <td>4AD</td>\n",
       "      <td>LP, Album</td>\n",
       "      <td>2020-06-10 13:19:35</td>\n",
       "    </tr>\n",
       "    <tr>\n",
       "      <th>4</th>\n",
       "      <td>Cannonball</td>\n",
       "      <td>The Breeders</td>\n",
       "      <td>Altemative Rock</td>\n",
       "      <td>1993</td>\n",
       "      <td>UK</td>\n",
       "      <td>4AD</td>\n",
       "      <td>12\", Single</td>\n",
       "      <td>2020-06-03 06:30:12</td>\n",
       "    </tr>\n",
       "  </tbody>\n",
       "</table>\n",
       "</div>"
      ],
      "text/plain": [
       "                 Title        Artist              Genre  Released Country  \\\n",
       "0             Bonafide   Maxi Priest            Pop Rap      1990  Greece   \n",
       "1  Ain't Nobody Better    Inner City              House      1989  Greece   \n",
       "2        I Wanna Dance    Melodie Mc         Euro House      1993  Sweden   \n",
       "3               Sirens   John Themis  Contemporary Jazz      1983  Greece   \n",
       "4           Cannonball  The Breeders    Altemative Rock      1993      UK   \n",
       "\n",
       "                Label       Format           Date Added  \n",
       "0          10 Records    LP, Album  2020-06-12 19:31:31  \n",
       "1  10 Records, Virgin  12\", Single  2020-06-08 12:29:11  \n",
       "2               12INC    12\", Maxi  2020-06-12 20:03:57  \n",
       "3                 4AD    LP, Album  2020-06-10 13:19:35  \n",
       "4                 4AD  12\", Single  2020-06-03 06:30:12  "
      ]
     },
     "execution_count": 188,
     "metadata": {},
     "output_type": "execute_result"
    }
   ],
   "source": [
    "df_merged.head()"
   ]
  },
  {
   "cell_type": "markdown",
   "id": "5c896142",
   "metadata": {},
   "source": [
    "#### Check for duplicated rows and drop"
   ]
  },
  {
   "cell_type": "code",
   "execution_count": 189,
   "id": "ad6cd1d2",
   "metadata": {},
   "outputs": [
    {
     "data": {
      "text/plain": [
       "(3300, 8)"
      ]
     },
     "execution_count": 189,
     "metadata": {},
     "output_type": "execute_result"
    }
   ],
   "source": [
    "df_merged.shape"
   ]
  },
  {
   "cell_type": "code",
   "execution_count": 190,
   "id": "7d1e3ec1",
   "metadata": {
    "scrolled": true
   },
   "outputs": [
    {
     "data": {
      "text/plain": [
       "63"
      ]
     },
     "execution_count": 190,
     "metadata": {},
     "output_type": "execute_result"
    }
   ],
   "source": [
    "df_merged.duplicated().sum()"
   ]
  },
  {
   "cell_type": "markdown",
   "id": "1bd2d79b",
   "metadata": {},
   "source": [
    "> 63 discs were inserted twice by accident. *whoosh*"
   ]
  },
  {
   "cell_type": "code",
   "execution_count": 191,
   "id": "b005ff11",
   "metadata": {},
   "outputs": [],
   "source": [
    "df_merged.drop_duplicates(keep='first', inplace=True)\n",
    "df_merged.reset_index(drop=True,inplace=True)"
   ]
  },
  {
   "cell_type": "code",
   "execution_count": 192,
   "id": "3c94a1dc",
   "metadata": {
    "scrolled": false
   },
   "outputs": [
    {
     "data": {
      "text/plain": [
       "(3237, 8)"
      ]
     },
     "execution_count": 192,
     "metadata": {},
     "output_type": "execute_result"
    }
   ],
   "source": [
    "df_merged.shape"
   ]
  },
  {
   "cell_type": "markdown",
   "id": "a34f91c3",
   "metadata": {},
   "source": [
    "## Export to excel file"
   ]
  },
  {
   "cell_type": "code",
   "execution_count": 194,
   "id": "ff0a0c16",
   "metadata": {},
   "outputs": [],
   "source": [
    "df_merged.to_excel('gopera_collection.xlsx', index=False)"
   ]
  },
  {
   "cell_type": "code",
   "execution_count": null,
   "id": "e073c68d",
   "metadata": {},
   "outputs": [],
   "source": []
  }
 ],
 "metadata": {
  "kernelspec": {
   "display_name": "Python 3 (ipykernel)",
   "language": "python",
   "name": "python3"
  },
  "language_info": {
   "codemirror_mode": {
    "name": "ipython",
    "version": 3
   },
   "file_extension": ".py",
   "mimetype": "text/x-python",
   "name": "python",
   "nbconvert_exporter": "python",
   "pygments_lexer": "ipython3",
   "version": "3.9.7"
  }
 },
 "nbformat": 4,
 "nbformat_minor": 5
}
