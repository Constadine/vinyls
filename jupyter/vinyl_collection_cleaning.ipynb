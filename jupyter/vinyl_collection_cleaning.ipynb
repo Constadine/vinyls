{
 "cells": [
  {
   "cell_type": "markdown",
   "id": "b5a81b81",
   "metadata": {},
   "source": [
    "# Merge and clean datasets"
   ]
  },
  {
   "cell_type": "code",
   "execution_count": 1,
   "id": "73b83149",
   "metadata": {},
   "outputs": [],
   "source": [
    "import pandas as pd"
   ]
  },
  {
   "cell_type": "markdown",
   "id": "fefcfe78",
   "metadata": {},
   "source": [
    "#### Load the dataframes"
   ]
  },
  {
   "cell_type": "code",
   "execution_count": 2,
   "id": "30a07654",
   "metadata": {},
   "outputs": [],
   "source": [
    "def load_data():\n",
    "    df1 = pd.read_csv('discorgs_collection.csv')\n",
    "    df2 = pd.read_excel('all_discs.xlsx')\n",
    "    return df1, df2"
   ]
  },
  {
   "cell_type": "code",
   "execution_count": 3,
   "id": "fd181d6d",
   "metadata": {},
   "outputs": [],
   "source": [
    "df_discorgs, df_home = load_data()"
   ]
  },
  {
   "cell_type": "markdown",
   "id": "954fef66",
   "metadata": {},
   "source": [
    "> df_discorgs refers to the dataset exporting by Discorgs. THe largest online music database.\n",
    "df_home is my father's sheet for keaping track. \n",
    "Some discs are not available at discorgs so they'"
   ]
  },
  {
   "cell_type": "markdown",
   "id": "7d269d27",
   "metadata": {},
   "source": [
    "## Clean data"
   ]
  },
  {
   "cell_type": "markdown",
   "id": "f2412cb8",
   "metadata": {},
   "source": [
    "#### Drop unused columns and replace NAs"
   ]
  },
  {
   "cell_type": "code",
   "execution_count": 45,
   "id": "0e4d20ec",
   "metadata": {},
   "outputs": [],
   "source": [
    "df_discorgs.drop(['Catalog#', 'Rating', 'release_id', 'CollectionFolder', 'Collection Media Condition', 'Collection Sleeve Condition','Collection Notes'],axis=1,inplace=True)"
   ]
  },
  {
   "cell_type": "code",
   "execution_count": 5,
   "id": "0bf8abd4",
   "metadata": {},
   "outputs": [],
   "source": [
    "# df_discorgs['Released'].replace(0,\"NS\",inplace=True)"
   ]
  },
  {
   "cell_type": "code",
   "execution_count": 6,
   "id": "2ad31c10",
   "metadata": {},
   "outputs": [
    {
     "data": {
      "text/plain": [
       "((3424, 6), (3388, 26))"
      ]
     },
     "execution_count": 6,
     "metadata": {},
     "output_type": "execute_result"
    }
   ],
   "source": [
    "df_discorgs.shape,df_home.shape"
   ]
  },
  {
   "cell_type": "code",
   "execution_count": 7,
   "id": "71b7897e",
   "metadata": {},
   "outputs": [],
   "source": [
    "df_home.drop('CAT#', axis=1 , inplace=True)\n",
    "df_home.drop(list(df_home.filter(regex = 'Unnamed')), axis = 1, inplace = True)\n",
    "#df_home.fillna('NS', inplace=True)"
   ]
  },
  {
   "cell_type": "code",
   "execution_count": 8,
   "id": "27fe7bb5",
   "metadata": {},
   "outputs": [],
   "source": [
    "def trim_all_columns(df):\n",
    "    trim_strings = lambda x: x.strip() if isinstance(x, str) else x\n",
    "    return df.applymap(trim_strings)\n",
    "df_discorgs = trim_all_columns(df_discorgs)\n",
    "df_home = trim_all_columns(df_home)"
   ]
  },
  {
   "cell_type": "code",
   "execution_count": 9,
   "id": "0ce21314",
   "metadata": {
    "scrolled": true
   },
   "outputs": [
    {
     "data": {
      "text/html": [
       "<div>\n",
       "<style scoped>\n",
       "    .dataframe tbody tr th:only-of-type {\n",
       "        vertical-align: middle;\n",
       "    }\n",
       "\n",
       "    .dataframe tbody tr th {\n",
       "        vertical-align: top;\n",
       "    }\n",
       "\n",
       "    .dataframe thead th {\n",
       "        text-align: right;\n",
       "    }\n",
       "</style>\n",
       "<table border=\"1\" class=\"dataframe\">\n",
       "  <thead>\n",
       "    <tr style=\"text-align: right;\">\n",
       "      <th></th>\n",
       "      <th>Artist</th>\n",
       "      <th>Title</th>\n",
       "      <th>Label</th>\n",
       "      <th>Format</th>\n",
       "      <th>Released</th>\n",
       "      <th>Date Added</th>\n",
       "    </tr>\n",
       "  </thead>\n",
       "  <tbody>\n",
       "    <tr>\n",
       "      <th>0</th>\n",
       "      <td>Baxter Dury</td>\n",
       "      <td>The Night Chancers</td>\n",
       "      <td>[PIAS] Le Label, [pias]</td>\n",
       "      <td>LP, Album, Ltd, Cry</td>\n",
       "      <td>2020</td>\n",
       "      <td>2021-12-24 08:03:27</td>\n",
       "    </tr>\n",
       "    <tr>\n",
       "      <th>1</th>\n",
       "      <td>Gary Moore</td>\n",
       "      <td>Victims Of The Future</td>\n",
       "      <td>10 Records</td>\n",
       "      <td>LP, Album</td>\n",
       "      <td>1984</td>\n",
       "      <td>2021-12-28 08:06:58</td>\n",
       "    </tr>\n",
       "    <tr>\n",
       "      <th>2</th>\n",
       "      <td>Maxi Priest</td>\n",
       "      <td>Bonafide</td>\n",
       "      <td>10 Records</td>\n",
       "      <td>LP, Album</td>\n",
       "      <td>1990</td>\n",
       "      <td>2020-06-12 19:31:31</td>\n",
       "    </tr>\n",
       "    <tr>\n",
       "      <th>3</th>\n",
       "      <td>Inner City</td>\n",
       "      <td>Ain't Nobody Better</td>\n",
       "      <td>10 Records, Virgin</td>\n",
       "      <td>12\", Single</td>\n",
       "      <td>1989</td>\n",
       "      <td>2020-06-08 12:29:11</td>\n",
       "    </tr>\n",
       "    <tr>\n",
       "      <th>4</th>\n",
       "      <td>Melodie Mc</td>\n",
       "      <td>I Wanna Dance</td>\n",
       "      <td>12INC</td>\n",
       "      <td>12\", Maxi</td>\n",
       "      <td>1993</td>\n",
       "      <td>2020-06-12 20:03:57</td>\n",
       "    </tr>\n",
       "  </tbody>\n",
       "</table>\n",
       "</div>"
      ],
      "text/plain": [
       "        Artist                  Title                    Label  \\\n",
       "0  Baxter Dury     The Night Chancers  [PIAS] Le Label, [pias]   \n",
       "1   Gary Moore  Victims Of The Future               10 Records   \n",
       "2  Maxi Priest               Bonafide               10 Records   \n",
       "3   Inner City    Ain't Nobody Better       10 Records, Virgin   \n",
       "4   Melodie Mc          I Wanna Dance                    12INC   \n",
       "\n",
       "                Format  Released           Date Added  \n",
       "0  LP, Album, Ltd, Cry      2020  2021-12-24 08:03:27  \n",
       "1            LP, Album      1984  2021-12-28 08:06:58  \n",
       "2            LP, Album      1990  2020-06-12 19:31:31  \n",
       "3          12\", Single      1989  2020-06-08 12:29:11  \n",
       "4            12\", Maxi      1993  2020-06-12 20:03:57  "
      ]
     },
     "execution_count": 9,
     "metadata": {},
     "output_type": "execute_result"
    }
   ],
   "source": [
    "df_discorgs.head()"
   ]
  },
  {
   "cell_type": "code",
   "execution_count": 10,
   "id": "c866ed1a",
   "metadata": {},
   "outputs": [
    {
     "data": {
      "text/plain": [
       "(3424, 6)"
      ]
     },
     "execution_count": 10,
     "metadata": {},
     "output_type": "execute_result"
    }
   ],
   "source": [
    "df_discorgs.shape"
   ]
  },
  {
   "cell_type": "code",
   "execution_count": 11,
   "id": "efbffc86",
   "metadata": {
    "scrolled": true
   },
   "outputs": [
    {
     "data": {
      "text/html": [
       "<div>\n",
       "<style scoped>\n",
       "    .dataframe tbody tr th:only-of-type {\n",
       "        vertical-align: middle;\n",
       "    }\n",
       "\n",
       "    .dataframe tbody tr th {\n",
       "        vertical-align: top;\n",
       "    }\n",
       "\n",
       "    .dataframe thead th {\n",
       "        text-align: right;\n",
       "    }\n",
       "</style>\n",
       "<table border=\"1\" class=\"dataframe\">\n",
       "  <thead>\n",
       "    <tr style=\"text-align: right;\">\n",
       "      <th></th>\n",
       "      <th>Title</th>\n",
       "      <th>Artist</th>\n",
       "      <th>Released</th>\n",
       "      <th>Genre</th>\n",
       "      <th>Country</th>\n",
       "      <th>Label</th>\n",
       "    </tr>\n",
       "  </thead>\n",
       "  <tbody>\n",
       "    <tr>\n",
       "      <th>0</th>\n",
       "      <td>02:00:00</td>\n",
       "      <td>Bazaar (6), Istanbul Express</td>\n",
       "      <td>1984</td>\n",
       "      <td>Folk</td>\n",
       "      <td>Greece</td>\n",
       "      <td>Virgin</td>\n",
       "    </tr>\n",
       "    <tr>\n",
       "      <th>1</th>\n",
       "      <td>1</td>\n",
       "      <td>Θέμης Αδαμαντίδης</td>\n",
       "      <td>1988</td>\n",
       "      <td>Laïkó</td>\n",
       "      <td>Greece</td>\n",
       "      <td>DPI Athenaeum</td>\n",
       "    </tr>\n",
       "    <tr>\n",
       "      <th>2</th>\n",
       "      <td>2</td>\n",
       "      <td>Black Heart Procession,The</td>\n",
       "      <td>2014</td>\n",
       "      <td>Indie Rock</td>\n",
       "      <td>USA</td>\n",
       "      <td>Touch And Go</td>\n",
       "    </tr>\n",
       "    <tr>\n",
       "      <th>3</th>\n",
       "      <td>1234</td>\n",
       "      <td>Propaganda</td>\n",
       "      <td>1990</td>\n",
       "      <td>Pop Rock</td>\n",
       "      <td>Greece</td>\n",
       "      <td>Virgin</td>\n",
       "    </tr>\n",
       "    <tr>\n",
       "      <th>4</th>\n",
       "      <td>90125</td>\n",
       "      <td>Yes</td>\n",
       "      <td>1983</td>\n",
       "      <td>Rock</td>\n",
       "      <td>Greece</td>\n",
       "      <td>ATCO Records</td>\n",
       "    </tr>\n",
       "  </tbody>\n",
       "</table>\n",
       "</div>"
      ],
      "text/plain": [
       "      Title                        Artist Released       Genre Country  \\\n",
       "0  02:00:00  Bazaar (6), Istanbul Express     1984        Folk  Greece   \n",
       "1         1             Θέμης Αδαμαντίδης     1988       Laïkó  Greece   \n",
       "2         2    Black Heart Procession,The     2014  Indie Rock     USA   \n",
       "3      1234                    Propaganda     1990    Pop Rock  Greece   \n",
       "4     90125                           Yes     1983        Rock  Greece   \n",
       "\n",
       "           Label  \n",
       "0         Virgin  \n",
       "1  DPI Athenaeum  \n",
       "2   Touch And Go  \n",
       "3         Virgin  \n",
       "4   ATCO Records  "
      ]
     },
     "execution_count": 11,
     "metadata": {},
     "output_type": "execute_result"
    }
   ],
   "source": [
    "df_home.head()"
   ]
  },
  {
   "cell_type": "code",
   "execution_count": 12,
   "id": "ee8c5ce6",
   "metadata": {},
   "outputs": [
    {
     "data": {
      "text/plain": [
       "(3388, 6)"
      ]
     },
     "execution_count": 12,
     "metadata": {},
     "output_type": "execute_result"
    }
   ],
   "source": [
    "df_home.shape"
   ]
  },
  {
   "cell_type": "markdown",
   "id": "31671f03",
   "metadata": {},
   "source": [
    "## Merge dataframes"
   ]
  },
  {
   "cell_type": "code",
   "execution_count": 13,
   "id": "38eb4ab4",
   "metadata": {
    "scrolled": false
   },
   "outputs": [],
   "source": [
    "df_merged = df_discorgs.merge(df_home,on='Title', how='inner',suffixes=('', '_y'))"
   ]
  },
  {
   "cell_type": "code",
   "execution_count": 14,
   "id": "b23d950d",
   "metadata": {},
   "outputs": [
    {
     "data": {
      "text/html": [
       "<div>\n",
       "<style scoped>\n",
       "    .dataframe tbody tr th:only-of-type {\n",
       "        vertical-align: middle;\n",
       "    }\n",
       "\n",
       "    .dataframe tbody tr th {\n",
       "        vertical-align: top;\n",
       "    }\n",
       "\n",
       "    .dataframe thead th {\n",
       "        text-align: right;\n",
       "    }\n",
       "</style>\n",
       "<table border=\"1\" class=\"dataframe\">\n",
       "  <thead>\n",
       "    <tr style=\"text-align: right;\">\n",
       "      <th></th>\n",
       "      <th>Artist</th>\n",
       "      <th>Title</th>\n",
       "      <th>Label</th>\n",
       "      <th>Format</th>\n",
       "      <th>Released</th>\n",
       "      <th>Date Added</th>\n",
       "      <th>Artist_y</th>\n",
       "      <th>Released_y</th>\n",
       "      <th>Genre</th>\n",
       "      <th>Country</th>\n",
       "      <th>Label_y</th>\n",
       "    </tr>\n",
       "  </thead>\n",
       "  <tbody>\n",
       "    <tr>\n",
       "      <th>0</th>\n",
       "      <td>Baxter Dury</td>\n",
       "      <td>The Night Chancers</td>\n",
       "      <td>[PIAS] Le Label, [pias]</td>\n",
       "      <td>LP, Album, Ltd, Cry</td>\n",
       "      <td>2020</td>\n",
       "      <td>2021-12-24 08:03:27</td>\n",
       "      <td>Baxter Dury</td>\n",
       "      <td>2020</td>\n",
       "      <td>Alternative Rock</td>\n",
       "      <td>Europe</td>\n",
       "      <td>[PIAS] Le Label</td>\n",
       "    </tr>\n",
       "    <tr>\n",
       "      <th>1</th>\n",
       "      <td>Gary Moore</td>\n",
       "      <td>Victims Of The Future</td>\n",
       "      <td>10 Records</td>\n",
       "      <td>LP, Album</td>\n",
       "      <td>1984</td>\n",
       "      <td>2021-12-28 08:06:58</td>\n",
       "      <td>Gary Moore</td>\n",
       "      <td>1984</td>\n",
       "      <td>Rock</td>\n",
       "      <td>Greece</td>\n",
       "      <td>10 Records</td>\n",
       "    </tr>\n",
       "    <tr>\n",
       "      <th>2</th>\n",
       "      <td>Maxi Priest</td>\n",
       "      <td>Bonafide</td>\n",
       "      <td>10 Records</td>\n",
       "      <td>LP, Album</td>\n",
       "      <td>1990</td>\n",
       "      <td>2020-06-12 19:31:31</td>\n",
       "      <td>Maxi Priest ‎</td>\n",
       "      <td>1990</td>\n",
       "      <td>Pop Rap</td>\n",
       "      <td>Greece</td>\n",
       "      <td>10 Records</td>\n",
       "    </tr>\n",
       "    <tr>\n",
       "      <th>3</th>\n",
       "      <td>Inner City</td>\n",
       "      <td>Ain't Nobody Better</td>\n",
       "      <td>10 Records, Virgin</td>\n",
       "      <td>12\", Single</td>\n",
       "      <td>1989</td>\n",
       "      <td>2020-06-08 12:29:11</td>\n",
       "      <td>Inner City</td>\n",
       "      <td>1989</td>\n",
       "      <td>House</td>\n",
       "      <td>Greece</td>\n",
       "      <td>Virgin</td>\n",
       "    </tr>\n",
       "    <tr>\n",
       "      <th>4</th>\n",
       "      <td>Melodie Mc</td>\n",
       "      <td>I Wanna Dance</td>\n",
       "      <td>12INC</td>\n",
       "      <td>12\", Maxi</td>\n",
       "      <td>1993</td>\n",
       "      <td>2020-06-12 20:03:57</td>\n",
       "      <td>Melodie MC</td>\n",
       "      <td>1993</td>\n",
       "      <td>Euro House</td>\n",
       "      <td>Sweden</td>\n",
       "      <td>12INC</td>\n",
       "    </tr>\n",
       "    <tr>\n",
       "      <th>...</th>\n",
       "      <td>...</td>\n",
       "      <td>...</td>\n",
       "      <td>...</td>\n",
       "      <td>...</td>\n",
       "      <td>...</td>\n",
       "      <td>...</td>\n",
       "      <td>...</td>\n",
       "      <td>...</td>\n",
       "      <td>...</td>\n",
       "      <td>...</td>\n",
       "      <td>...</td>\n",
       "    </tr>\n",
       "    <tr>\n",
       "      <th>3588</th>\n",
       "      <td>Manos Hadjidakis</td>\n",
       "      <td>Sweet Movie</td>\n",
       "      <td>Πολύτροπον, Lyra</td>\n",
       "      <td>LP, Album</td>\n",
       "      <td>1974</td>\n",
       "      <td>2020-05-31 08:31:18</td>\n",
       "      <td>Μάνος Χατζιδάκις</td>\n",
       "      <td>1974</td>\n",
       "      <td>Éntekhno</td>\n",
       "      <td>Greece</td>\n",
       "      <td>Πολύτροπον</td>\n",
       "    </tr>\n",
       "    <tr>\n",
       "      <th>3589</th>\n",
       "      <td>Георги Димитров</td>\n",
       "      <td>Τελικός Λόγος Στη Δίκη Της Λειψίας-1933</td>\n",
       "      <td>Балкантон</td>\n",
       "      <td>LP, Mono</td>\n",
       "      <td>0</td>\n",
       "      <td>2020-05-30 14:01:20</td>\n",
       "      <td>Γκεόργκι Ντιμιτρόφ</td>\n",
       "      <td>NaN</td>\n",
       "      <td>Non-Music</td>\n",
       "      <td>Bulgaria</td>\n",
       "      <td>Балкантон</td>\n",
       "    </tr>\n",
       "    <tr>\n",
       "      <th>3590</th>\n",
       "      <td>Various</td>\n",
       "      <td>Soviet Melodies</td>\n",
       "      <td>Мелодия</td>\n",
       "      <td>LP, Comp, Exp</td>\n",
       "      <td>1972</td>\n",
       "      <td>2021-08-15 14:55:21</td>\n",
       "      <td>Various</td>\n",
       "      <td>1972</td>\n",
       "      <td>Classical</td>\n",
       "      <td>USSR</td>\n",
       "      <td>Мелодия</td>\n",
       "    </tr>\n",
       "    <tr>\n",
       "      <th>3591</th>\n",
       "      <td>Нани Брегвадзе</td>\n",
       "      <td>Nani Bregvadze</td>\n",
       "      <td>Мелодия</td>\n",
       "      <td>LP</td>\n",
       "      <td>0</td>\n",
       "      <td>2020-06-13 17:03:30</td>\n",
       "      <td>Nani Bregvadze</td>\n",
       "      <td>1971</td>\n",
       "      <td>Ballad</td>\n",
       "      <td>USSR</td>\n",
       "      <td>Мелодия</td>\n",
       "    </tr>\n",
       "    <tr>\n",
       "      <th>3592</th>\n",
       "      <td>Sergei Prokofiev, Bolshoi Theatre Orchestra , ...</td>\n",
       "      <td>Romeo And Juliet. Fragments From The Ballet</td>\n",
       "      <td>Мелодия</td>\n",
       "      <td>LP, RP</td>\n",
       "      <td>1984</td>\n",
       "      <td>2020-06-16 21:13:23</td>\n",
       "      <td>S. Prokofiev, Bolshoi Theatre Orchestra , Cond...</td>\n",
       "      <td>1984</td>\n",
       "      <td>Classical</td>\n",
       "      <td>Greece</td>\n",
       "      <td>Мелодия</td>\n",
       "    </tr>\n",
       "  </tbody>\n",
       "</table>\n",
       "<p>3593 rows × 11 columns</p>\n",
       "</div>"
      ],
      "text/plain": [
       "                                                 Artist  \\\n",
       "0                                           Baxter Dury   \n",
       "1                                            Gary Moore   \n",
       "2                                           Maxi Priest   \n",
       "3                                            Inner City   \n",
       "4                                            Melodie Mc   \n",
       "...                                                 ...   \n",
       "3588                                   Manos Hadjidakis   \n",
       "3589                                    Георги Димитров   \n",
       "3590                                            Various   \n",
       "3591                                     Нани Брегвадзе   \n",
       "3592  Sergei Prokofiev, Bolshoi Theatre Orchestra , ...   \n",
       "\n",
       "                                            Title                    Label  \\\n",
       "0                              The Night Chancers  [PIAS] Le Label, [pias]   \n",
       "1                           Victims Of The Future               10 Records   \n",
       "2                                        Bonafide               10 Records   \n",
       "3                             Ain't Nobody Better       10 Records, Virgin   \n",
       "4                                   I Wanna Dance                    12INC   \n",
       "...                                           ...                      ...   \n",
       "3588                                  Sweet Movie         Πολύτροπον, Lyra   \n",
       "3589      Τελικός Λόγος Στη Δίκη Της Λειψίας-1933                Балкантон   \n",
       "3590                              Soviet Melodies                  Мелодия   \n",
       "3591                               Nani Bregvadze                  Мелодия   \n",
       "3592  Romeo And Juliet. Fragments From The Ballet                  Мелодия   \n",
       "\n",
       "                   Format  Released           Date Added  \\\n",
       "0     LP, Album, Ltd, Cry      2020  2021-12-24 08:03:27   \n",
       "1               LP, Album      1984  2021-12-28 08:06:58   \n",
       "2               LP, Album      1990  2020-06-12 19:31:31   \n",
       "3             12\", Single      1989  2020-06-08 12:29:11   \n",
       "4               12\", Maxi      1993  2020-06-12 20:03:57   \n",
       "...                   ...       ...                  ...   \n",
       "3588            LP, Album      1974  2020-05-31 08:31:18   \n",
       "3589             LP, Mono         0  2020-05-30 14:01:20   \n",
       "3590        LP, Comp, Exp      1972  2021-08-15 14:55:21   \n",
       "3591                   LP         0  2020-06-13 17:03:30   \n",
       "3592               LP, RP      1984  2020-06-16 21:13:23   \n",
       "\n",
       "                                               Artist_y Released_y  \\\n",
       "0                                           Baxter Dury       2020   \n",
       "1                                            Gary Moore       1984   \n",
       "2                                         Maxi Priest ‎       1990   \n",
       "3                                            Inner City       1989   \n",
       "4                                            Melodie MC       1993   \n",
       "...                                                 ...        ...   \n",
       "3588                                   Μάνος Χατζιδάκις       1974   \n",
       "3589                                 Γκεόργκι Ντιμιτρόφ        NaN   \n",
       "3590                                            Various       1972   \n",
       "3591                                     Nani Bregvadze       1971   \n",
       "3592  S. Prokofiev, Bolshoi Theatre Orchestra , Cond...       1984   \n",
       "\n",
       "                 Genre   Country          Label_y  \n",
       "0     Alternative Rock    Europe  [PIAS] Le Label  \n",
       "1                 Rock    Greece       10 Records  \n",
       "2              Pop Rap    Greece       10 Records  \n",
       "3                House    Greece           Virgin  \n",
       "4           Euro House    Sweden            12INC  \n",
       "...                ...       ...              ...  \n",
       "3588          Éntekhno    Greece       Πολύτροπον  \n",
       "3589         Non-Music  Bulgaria        Балкантон  \n",
       "3590         Classical      USSR          Мелодия  \n",
       "3591            Ballad      USSR          Мелодия  \n",
       "3592         Classical    Greece          Мелодия  \n",
       "\n",
       "[3593 rows x 11 columns]"
      ]
     },
     "execution_count": 14,
     "metadata": {},
     "output_type": "execute_result"
    }
   ],
   "source": [
    "df_merged"
   ]
  },
  {
   "cell_type": "code",
   "execution_count": 15,
   "id": "9f958a28",
   "metadata": {
    "scrolled": true
   },
   "outputs": [
    {
     "data": {
      "text/plain": [
       "(3593, 11)"
      ]
     },
     "execution_count": 15,
     "metadata": {},
     "output_type": "execute_result"
    }
   ],
   "source": [
    "df_merged.shape"
   ]
  },
  {
   "cell_type": "markdown",
   "id": "075a00a9",
   "metadata": {},
   "source": [
    "#### Drop duplicated columns and rearrange columns"
   ]
  },
  {
   "cell_type": "code",
   "execution_count": 16,
   "id": "6a11e1f8",
   "metadata": {},
   "outputs": [],
   "source": [
    "df_merged.drop(df_merged.filter(regex='_y$').columns.tolist(),axis=1, inplace=True)\n",
    "cols = [ 'Title','Artist', 'Genre', 'Released', 'Country',\n",
    " 'Label',\n",
    " 'Format',\n",
    " 'Date Added',\n",
    "]\n",
    "df_merged = df_merged.reindex(columns=cols)"
   ]
  },
  {
   "cell_type": "markdown",
   "id": "5b3a9215",
   "metadata": {},
   "source": [
    "#### Check for duplicated rows and drop"
   ]
  },
  {
   "cell_type": "code",
   "execution_count": 17,
   "id": "241dc3fa",
   "metadata": {},
   "outputs": [
    {
     "data": {
      "text/plain": [
       "(3593, 8)"
      ]
     },
     "execution_count": 17,
     "metadata": {},
     "output_type": "execute_result"
    }
   ],
   "source": [
    "df_merged.shape"
   ]
  },
  {
   "cell_type": "code",
   "execution_count": 18,
   "id": "f7980a23",
   "metadata": {
    "scrolled": true
   },
   "outputs": [
    {
     "data": {
      "text/plain": [
       "66"
      ]
     },
     "execution_count": 18,
     "metadata": {},
     "output_type": "execute_result"
    }
   ],
   "source": [
    "df_merged.duplicated(subset=['Title','Artist', 'Genre', 'Released', 'Country',\n",
    " 'Label',\n",
    " 'Format']).sum()"
   ]
  },
  {
   "cell_type": "markdown",
   "id": "ac74848f",
   "metadata": {},
   "source": [
    "> 66 discs were inserted twice by accident. *whoosh*"
   ]
  },
  {
   "cell_type": "code",
   "execution_count": 19,
   "id": "a9ea06a5",
   "metadata": {},
   "outputs": [],
   "source": [
    "dups = df_merged.loc[df_merged.duplicated(subset=['Title','Artist', 'Genre',\n",
    "                                           'Released', 'Country',\n",
    "                                           'Label','Format'],keep=False), :]"
   ]
  },
  {
   "cell_type": "markdown",
   "id": "96c6fba9",
   "metadata": {},
   "source": [
    "> keep duplicates to certify errors"
   ]
  },
  {
   "cell_type": "code",
   "execution_count": 20,
   "id": "b005ff11",
   "metadata": {},
   "outputs": [],
   "source": [
    "df_merged.drop_duplicates(subset=['Title','Artist', 'Genre',\n",
    "                                  'Released', 'Country',\n",
    "                                  'Label','Format'], keep='first', inplace=True)\n",
    "df_merged.reset_index(drop=True,inplace=True)"
   ]
  },
  {
   "cell_type": "code",
   "execution_count": 21,
   "id": "8741abe7",
   "metadata": {
    "scrolled": true
   },
   "outputs": [
    {
     "data": {
      "text/plain": [
       "(3527, 8)"
      ]
     },
     "execution_count": 21,
     "metadata": {},
     "output_type": "execute_result"
    }
   ],
   "source": [
    "df_merged.shape"
   ]
  },
  {
   "cell_type": "code",
   "execution_count": 22,
   "id": "f585574b",
   "metadata": {},
   "outputs": [
    {
     "data": {
      "text/html": [
       "<div>\n",
       "<style scoped>\n",
       "    .dataframe tbody tr th:only-of-type {\n",
       "        vertical-align: middle;\n",
       "    }\n",
       "\n",
       "    .dataframe tbody tr th {\n",
       "        vertical-align: top;\n",
       "    }\n",
       "\n",
       "    .dataframe thead th {\n",
       "        text-align: right;\n",
       "    }\n",
       "</style>\n",
       "<table border=\"1\" class=\"dataframe\">\n",
       "  <thead>\n",
       "    <tr style=\"text-align: right;\">\n",
       "      <th></th>\n",
       "      <th>Title</th>\n",
       "      <th>Artist</th>\n",
       "      <th>Genre</th>\n",
       "      <th>Released</th>\n",
       "      <th>Country</th>\n",
       "      <th>Label</th>\n",
       "      <th>Format</th>\n",
       "      <th>Date Added</th>\n",
       "    </tr>\n",
       "  </thead>\n",
       "  <tbody>\n",
       "    <tr>\n",
       "      <th>0</th>\n",
       "      <td>The Night Chancers</td>\n",
       "      <td>Baxter Dury</td>\n",
       "      <td>Alternative Rock</td>\n",
       "      <td>2020</td>\n",
       "      <td>Europe</td>\n",
       "      <td>[PIAS] Le Label, [pias]</td>\n",
       "      <td>LP, Album, Ltd, Cry</td>\n",
       "      <td>2021-12-24 08:03:27</td>\n",
       "    </tr>\n",
       "    <tr>\n",
       "      <th>1</th>\n",
       "      <td>Victims Of The Future</td>\n",
       "      <td>Gary Moore</td>\n",
       "      <td>Rock</td>\n",
       "      <td>1984</td>\n",
       "      <td>Greece</td>\n",
       "      <td>10 Records</td>\n",
       "      <td>LP, Album</td>\n",
       "      <td>2021-12-28 08:06:58</td>\n",
       "    </tr>\n",
       "    <tr>\n",
       "      <th>2</th>\n",
       "      <td>Bonafide</td>\n",
       "      <td>Maxi Priest</td>\n",
       "      <td>Pop Rap</td>\n",
       "      <td>1990</td>\n",
       "      <td>Greece</td>\n",
       "      <td>10 Records</td>\n",
       "      <td>LP, Album</td>\n",
       "      <td>2020-06-12 19:31:31</td>\n",
       "    </tr>\n",
       "    <tr>\n",
       "      <th>3</th>\n",
       "      <td>Ain't Nobody Better</td>\n",
       "      <td>Inner City</td>\n",
       "      <td>House</td>\n",
       "      <td>1989</td>\n",
       "      <td>Greece</td>\n",
       "      <td>10 Records, Virgin</td>\n",
       "      <td>12\", Single</td>\n",
       "      <td>2020-06-08 12:29:11</td>\n",
       "    </tr>\n",
       "    <tr>\n",
       "      <th>4</th>\n",
       "      <td>I Wanna Dance</td>\n",
       "      <td>Melodie Mc</td>\n",
       "      <td>Euro House</td>\n",
       "      <td>1993</td>\n",
       "      <td>Sweden</td>\n",
       "      <td>12INC</td>\n",
       "      <td>12\", Maxi</td>\n",
       "      <td>2020-06-12 20:03:57</td>\n",
       "    </tr>\n",
       "    <tr>\n",
       "      <th>...</th>\n",
       "      <td>...</td>\n",
       "      <td>...</td>\n",
       "      <td>...</td>\n",
       "      <td>...</td>\n",
       "      <td>...</td>\n",
       "      <td>...</td>\n",
       "      <td>...</td>\n",
       "      <td>...</td>\n",
       "    </tr>\n",
       "    <tr>\n",
       "      <th>3522</th>\n",
       "      <td>Sweet Movie</td>\n",
       "      <td>Manos Hadjidakis</td>\n",
       "      <td>Éntekhno</td>\n",
       "      <td>1974</td>\n",
       "      <td>Greece</td>\n",
       "      <td>Πολύτροπον, Lyra</td>\n",
       "      <td>LP, Album</td>\n",
       "      <td>2020-05-31 08:31:18</td>\n",
       "    </tr>\n",
       "    <tr>\n",
       "      <th>3523</th>\n",
       "      <td>Τελικός Λόγος Στη Δίκη Της Λειψίας-1933</td>\n",
       "      <td>Георги Димитров</td>\n",
       "      <td>Non-Music</td>\n",
       "      <td>0</td>\n",
       "      <td>Bulgaria</td>\n",
       "      <td>Балкантон</td>\n",
       "      <td>LP, Mono</td>\n",
       "      <td>2020-05-30 14:01:20</td>\n",
       "    </tr>\n",
       "    <tr>\n",
       "      <th>3524</th>\n",
       "      <td>Soviet Melodies</td>\n",
       "      <td>Various</td>\n",
       "      <td>Classical</td>\n",
       "      <td>1972</td>\n",
       "      <td>USSR</td>\n",
       "      <td>Мелодия</td>\n",
       "      <td>LP, Comp, Exp</td>\n",
       "      <td>2021-08-15 14:55:21</td>\n",
       "    </tr>\n",
       "    <tr>\n",
       "      <th>3525</th>\n",
       "      <td>Nani Bregvadze</td>\n",
       "      <td>Нани Брегвадзе</td>\n",
       "      <td>Ballad</td>\n",
       "      <td>0</td>\n",
       "      <td>USSR</td>\n",
       "      <td>Мелодия</td>\n",
       "      <td>LP</td>\n",
       "      <td>2020-06-13 17:03:30</td>\n",
       "    </tr>\n",
       "    <tr>\n",
       "      <th>3526</th>\n",
       "      <td>Romeo And Juliet. Fragments From The Ballet</td>\n",
       "      <td>Sergei Prokofiev, Bolshoi Theatre Orchestra , ...</td>\n",
       "      <td>Classical</td>\n",
       "      <td>1984</td>\n",
       "      <td>Greece</td>\n",
       "      <td>Мелодия</td>\n",
       "      <td>LP, RP</td>\n",
       "      <td>2020-06-16 21:13:23</td>\n",
       "    </tr>\n",
       "  </tbody>\n",
       "</table>\n",
       "<p>3527 rows × 8 columns</p>\n",
       "</div>"
      ],
      "text/plain": [
       "                                            Title  \\\n",
       "0                              The Night Chancers   \n",
       "1                           Victims Of The Future   \n",
       "2                                        Bonafide   \n",
       "3                             Ain't Nobody Better   \n",
       "4                                   I Wanna Dance   \n",
       "...                                           ...   \n",
       "3522                                  Sweet Movie   \n",
       "3523      Τελικός Λόγος Στη Δίκη Της Λειψίας-1933   \n",
       "3524                              Soviet Melodies   \n",
       "3525                               Nani Bregvadze   \n",
       "3526  Romeo And Juliet. Fragments From The Ballet   \n",
       "\n",
       "                                                 Artist             Genre  \\\n",
       "0                                           Baxter Dury  Alternative Rock   \n",
       "1                                            Gary Moore              Rock   \n",
       "2                                           Maxi Priest           Pop Rap   \n",
       "3                                            Inner City             House   \n",
       "4                                            Melodie Mc        Euro House   \n",
       "...                                                 ...               ...   \n",
       "3522                                   Manos Hadjidakis          Éntekhno   \n",
       "3523                                    Георги Димитров         Non-Music   \n",
       "3524                                            Various         Classical   \n",
       "3525                                     Нани Брегвадзе            Ballad   \n",
       "3526  Sergei Prokofiev, Bolshoi Theatre Orchestra , ...         Classical   \n",
       "\n",
       "      Released   Country                    Label               Format  \\\n",
       "0         2020    Europe  [PIAS] Le Label, [pias]  LP, Album, Ltd, Cry   \n",
       "1         1984    Greece               10 Records            LP, Album   \n",
       "2         1990    Greece               10 Records            LP, Album   \n",
       "3         1989    Greece       10 Records, Virgin          12\", Single   \n",
       "4         1993    Sweden                    12INC            12\", Maxi   \n",
       "...        ...       ...                      ...                  ...   \n",
       "3522      1974    Greece         Πολύτροπον, Lyra            LP, Album   \n",
       "3523         0  Bulgaria                Балкантон             LP, Mono   \n",
       "3524      1972      USSR                  Мелодия        LP, Comp, Exp   \n",
       "3525         0      USSR                  Мелодия                   LP   \n",
       "3526      1984    Greece                  Мелодия               LP, RP   \n",
       "\n",
       "               Date Added  \n",
       "0     2021-12-24 08:03:27  \n",
       "1     2021-12-28 08:06:58  \n",
       "2     2020-06-12 19:31:31  \n",
       "3     2020-06-08 12:29:11  \n",
       "4     2020-06-12 20:03:57  \n",
       "...                   ...  \n",
       "3522  2020-05-31 08:31:18  \n",
       "3523  2020-05-30 14:01:20  \n",
       "3524  2021-08-15 14:55:21  \n",
       "3525  2020-06-13 17:03:30  \n",
       "3526  2020-06-16 21:13:23  \n",
       "\n",
       "[3527 rows x 8 columns]"
      ]
     },
     "execution_count": 22,
     "metadata": {},
     "output_type": "execute_result"
    }
   ],
   "source": [
    "df_merged"
   ]
  },
  {
   "cell_type": "markdown",
   "id": "bb8a8ba5",
   "metadata": {},
   "source": [
    "## Export to excel file"
   ]
  },
  {
   "cell_type": "code",
   "execution_count": 23,
   "id": "ff0a0c16",
   "metadata": {},
   "outputs": [],
   "source": [
    "df_merged.to_excel('gopera_collection.xlsx', index=False)"
   ]
  }
 ],
 "metadata": {
  "kernelspec": {
   "display_name": "Python 3 (ipykernel)",
   "language": "python",
   "name": "python3"
  },
  "language_info": {
   "codemirror_mode": {
    "name": "ipython",
    "version": 3
   },
   "file_extension": ".py",
   "mimetype": "text/x-python",
   "name": "python",
   "nbconvert_exporter": "python",
   "pygments_lexer": "ipython3",
   "version": "3.9.7"
  }
 },
 "nbformat": 4,
 "nbformat_minor": 5
}
